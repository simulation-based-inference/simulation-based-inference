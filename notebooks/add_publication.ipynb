{
 "cells": [
  {
   "attachments": {},
   "cell_type": "markdown",
   "metadata": {},
   "source": [
    "The is how to manually add paper into the database"
   ]
  },
  {
   "cell_type": "code",
   "execution_count": null,
   "metadata": {},
   "outputs": [],
   "source": [
    "from backend.database import Paper, insert_paper, get_paper, update_paper\n",
    "from backend.api import query_arxiv, query_serp, query_biorxiv\n",
    "from backend.guess_category import Guesser"
   ]
  },
  {
   "cell_type": "code",
   "execution_count": null,
   "metadata": {},
   "outputs": [],
   "source": [
    "CATEGORY_GUESSER = Guesser()\n",
    "\n",
    "\n",
    "def find_paper(title: str) -> dict:\n",
    "    \"\"\"Add a paper to the database.\"\"\"\n",
    "\n",
    "    # Check if the paper already exists\n",
    "    assert get_paper(title) is None\n",
    "\n",
    "    results = query_serp(term=title, historical=True)\n",
    "\n",
    "    # Top result should be the paper of interest\n",
    "    results = results[\"formatted_results\"]\n",
    "\n",
    "    print(len(results))\n",
    "    selected_result = results[0]  # Should be the top result\n",
    "\n",
    "    print(f\"Selected: {selected_result['title']}\")\n",
    "    return selected_result\n",
    "\n",
    "\n",
    "def add_paper(result: dict) -> None:\n",
    "    \"\"\"Crawl extra metadata and add the paper to the database.\"\"\"\n",
    "    if result[\"journal\"] == \"arxiv.org\":\n",
    "        arxiv_data = query_arxiv(result[\"arxiv_id\"])\n",
    "        if arxiv_data is not None:\n",
    "            result.update(arxiv_data)\n",
    "\n",
    "    # Append extra biorxiv data\n",
    "    if result[\"journal\"] == \"biorxiv.org\":\n",
    "        biorxiv_data = query_biorxiv(result[\"doi\"])\n",
    "        if biorxiv_data is not None:\n",
    "            result.update(biorxiv_data)\n",
    "\n",
    "    # MUST Sanitize using Paper class, otherwise cannot get the correct title\n",
    "    paper = Paper(**result)\n",
    "    insert_paper(paper)\n",
    "\n",
    "    # Append guessed category\n",
    "    if paper.category is None:\n",
    "        paper.category = CATEGORY_GUESSER.guess(paper.id, paper.title)\n",
    "        update_paper(paper)"
   ]
  },
  {
   "cell_type": "code",
   "execution_count": null,
   "metadata": {},
   "outputs": [],
   "source": [
    "# A list of manually added papers\n",
    "\n",
    "titles = [\n",
    "    # \"Optimally-weighted Estimators of the Maximum Mean Discrepancy for Likelihood-Free Inference\",\n",
    "    # \"Approximate Bayesian Computation with Domain Expert in the Loop\",\n",
    "    # \"Approximate Bayesian neural Doppler imaging\",\n",
    "    # \"Bayesian Stokes inversion with normalizing flows\",\n",
    "    # \"Sequential Neural Score Estimation: Likelihood-Free Inference with Conditional Score Based Diffusion Models\"\n",
    "]"
   ]
  },
  {
   "attachments": {},
   "cell_type": "markdown",
   "metadata": {},
   "source": [
    "Given that the title might not align perfectly, especially for those containing LaTeX, it would be advisable to manually double-check for certainty."
   ]
  },
  {
   "cell_type": "code",
   "execution_count": null,
   "metadata": {},
   "outputs": [],
   "source": [
    "paper = find_paper(title=titles[0])\n",
    "paper"
   ]
  },
  {
   "attachments": {},
   "cell_type": "markdown",
   "metadata": {},
   "source": [
    "It it looks good, then we can add it to the database."
   ]
  },
  {
   "cell_type": "code",
   "execution_count": null,
   "metadata": {},
   "outputs": [],
   "source": [
    "add_paper(paper)"
   ]
  }
 ],
 "metadata": {
  "kernelspec": {
   "display_name": "Python 3",
   "language": "python",
   "name": "python3"
  },
  "language_info": {
   "codemirror_mode": {
    "name": "ipython",
    "version": 3
   },
   "file_extension": ".py",
   "mimetype": "text/x-python",
   "name": "python",
   "nbconvert_exporter": "python",
   "pygments_lexer": "ipython3",
   "version": "3.10.12"
  },
  "orig_nbformat": 4
 },
 "nbformat": 4,
 "nbformat_minor": 2
}
