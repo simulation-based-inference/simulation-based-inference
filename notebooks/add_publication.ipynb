{
 "cells": [
  {
   "attachments": {},
   "cell_type": "markdown",
   "metadata": {},
   "source": [
    "The is how to manually add paper into the database"
   ]
  },
  {
   "cell_type": "code",
   "execution_count": null,
   "metadata": {},
   "outputs": [],
   "source": [
    "import datetime\n",
    "from scholar.database import Paper\n",
    "from scholar.post_maker import make_all"
   ]
  },
  {
   "attachments": {},
   "cell_type": "markdown",
   "metadata": {},
   "source": [
    "Insert record into SQLite DB"
   ]
  },
  {
   "cell_type": "code",
   "execution_count": null,
   "metadata": {},
   "outputs": [],
   "source": [
    "Paper.insert(\n",
    "    category=\"Musicology\",\n",
    "    title=\"Examining Back-to-Back plays by gender, race, & sexual orientation\",\n",
    "    authors=\"Jan Diehm, Jada Watson\",\n",
    "    publication_info_summary=\"Jan Diehm, Jada Watson - The Pudding, 2023 - pudding.cool\",\n",
    "    journal=\"The Pudding\",\n",
    "    published_on=datetime.date(2023, 5, 1),\n",
    "    link=\"https://pudding.cool/2023/05/country-radio/\",\n",
    "    snippet=\"The authors are a mix of musicologist, information school, Stats, and data journalism. They use simulation to estimate number of back-to-back songs in country music.\",\n",
    ").execute()"
   ]
  },
  {
   "attachments": {},
   "cell_type": "markdown",
   "metadata": {},
   "source": [
    "Remake markdown files"
   ]
  },
  {
   "cell_type": "code",
   "execution_count": null,
   "metadata": {},
   "outputs": [],
   "source": [
    "make_all(overwrite=True)"
   ]
  }
 ],
 "metadata": {
  "kernelspec": {
   "display_name": "Python 3",
   "language": "python",
   "name": "python3"
  },
  "language_info": {
   "codemirror_mode": {
    "name": "ipython",
    "version": 3
   },
   "file_extension": ".py",
   "mimetype": "text/x-python",
   "name": "python",
   "nbconvert_exporter": "python",
   "pygments_lexer": "ipython3",
   "version": "3.10.11"
  },
  "orig_nbformat": 4
 },
 "nbformat": 4,
 "nbformat_minor": 2
}
