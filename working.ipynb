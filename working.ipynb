{
 "cells": [
  {
   "cell_type": "code",
   "execution_count": null,
   "metadata": {},
   "outputs": [],
   "source": [
    "!python main.py"
   ]
  },
  {
   "cell_type": "code",
   "execution_count": null,
   "metadata": {},
   "outputs": [],
   "source": [
    "from scholar.post_maker import make_all\n",
    "make_all()"
   ]
  },
  {
   "attachments": {},
   "cell_type": "markdown",
   "metadata": {},
   "source": [
    "# Archive"
   ]
  },
  {
   "attachments": {},
   "cell_type": "markdown",
   "metadata": {},
   "source": [
    "## Add new column called arxiv_term in SQLite"
   ]
  },
  {
   "cell_type": "code",
   "execution_count": null,
   "metadata": {},
   "outputs": [],
   "source": [
    "import sqlite3\n",
    "\n",
    "# Reset the new columns\n",
    "# with sqlite3.connect('scholar/paper.db') as conn:\n",
    "#     c = conn.cursor()\n",
    "#     c.execute('ALTER TABLE paper DROP COLUMN arxiv_term_short;')\n",
    "#     c.execute('ALTER TABLE paper DROP COLUMN arxiv_term_long;')\n",
    "#     conn.commit()\n",
    "\n",
    "with sqlite3.connect('scholar/paper.db') as conn:\n",
    "    c = conn.cursor()\n",
    "    c.execute('ALTER TABLE paper ADD COLUMN arxiv_group_tag VARCHAR(255);')\n",
    "    c.execute('ALTER TABLE paper ADD COLUMN arxiv_category_tag VARCHAR(255);')\n",
    "    conn.commit()\n"
   ]
  },
  {
   "attachments": {},
   "cell_type": "markdown",
   "metadata": {},
   "source": [
    "## Patch category and group tag to database"
   ]
  },
  {
   "cell_type": "code",
   "execution_count": null,
   "metadata": {},
   "outputs": [],
   "source": [
    "from time import sleep\n",
    "from scholar.database import Paper\n",
    "from scholar.api import ARXIV_GROUP, ARXIV_CATEGORY, get_arxiv_category\n",
    "p = Paper.select().where(Paper.arxiv_group_tag == None)\n",
    "\n",
    "for paper in p.iterator():\n",
    "    print(paper.title)\n",
    "    try:\n",
    "        category_tag=get_arxiv_category(paper.title)\n",
    "    except AttributeError:\n",
    "        print(f'{paper.title} not found.')\n",
    "        continue\n",
    "\n",
    "    # Make group tag and push to database\n",
    "    group_tag = category_tag.split('.')[0]\n",
    "    if group_tag in ARXIV_GROUP:\n",
    "        paper.arxiv_group_tag=group_tag\n",
    "    \n",
    "    if category_tag in ARXIV_CATEGORY:\n",
    "        paper.arxiv_category_tag=category_tag\n",
    "    paper.save()\n",
    "    sleep(0.5)  # arxiv.org has a rate limit of 3 requests per second"
   ]
  }
 ],
 "metadata": {
  "kernelspec": {
   "display_name": "sbi",
   "language": "python",
   "name": "python3"
  },
  "language_info": {
   "codemirror_mode": {
    "name": "ipython",
    "version": 3
   },
   "file_extension": ".py",
   "mimetype": "text/x-python",
   "name": "python",
   "nbconvert_exporter": "python",
   "pygments_lexer": "ipython3",
   "version": "3.11.2"
  },
  "orig_nbformat": 4
 },
 "nbformat": 4,
 "nbformat_minor": 2
}
