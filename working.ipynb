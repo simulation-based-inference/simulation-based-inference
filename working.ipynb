{
 "cells": [
  {
   "attachments": {},
   "cell_type": "markdown",
   "metadata": {},
   "source": [
    "Use OPENAI to get arxiv categories"
   ]
  },
  {
   "cell_type": "code",
   "execution_count": 3,
   "metadata": {},
   "outputs": [
    {
     "data": {
      "text/plain": [
       "True"
      ]
     },
     "execution_count": 3,
     "metadata": {},
     "output_type": "execute_result"
    }
   ],
   "source": [
    "import openai\n",
    "import os\n",
    "from backend.database import update_paper, get_papers, get_paper\n",
    "\n",
    "from dotenv import load_dotenv\n",
    "\n",
    "load_dotenv()"
   ]
  },
  {
   "cell_type": "code",
   "execution_count": 18,
   "metadata": {},
   "outputs": [
    {
     "name": "stdout",
     "output_type": "stream",
     "text": [
      "Neuroscience -> Neuroscience | Methods and considerations for estimating parameters in biophysically detailed neural models with simulation based inference\n",
      "Astrophysics -> Astronomy | SBI++: Flexible, Ultra-fast Likelihood-free Inference Customized for Astronomical Application\n",
      "Astrophysics -> Astrophysics | SimBIG: mock challenge for a forward modeling approach to galaxy clustering\n",
      "Physics -> Physics | Graph-informed simulation-based inference for models of active matter\n",
      "Astrophysics -> Astrophysics | Albatross: A scalable simulation-based inference pipeline for analysing stellar streams in the Milky Way\n",
      "Physics -> Physics and Astronomy | Peregrine: Sequential simulation-based inference for gravitational wave signals\n",
      "Computer Science -> Neuroscience | Simulation-based Inference for Model Parameterization on Analog Neuromorphic Hardware\n",
      "Astrophysics -> Astronomy/Astrophysics | Investigating the turbulent hot gas in X-COP galaxy clusters\n",
      "Astrophysics -> Astrophysics and astronomy | Constraining the X-ray heating and reionization using 21-cm power spectra with Marginal Neural Ratio Estimation\n",
      "Bioinformatics -> Genomics | Modelling capture efficiency of single cell RNA-sequencing data improves inference of transcriptome-wide burst kinetics\n",
      "Physics -> Computational physics | Ultra-High-Resolution Detector Simulation with Intra-Event Aware GAN and Self-Supervised Relational Reasoning\n",
      "Neuroscience -> Neuroscience | Combined statistical-mechanistic modeling links ion channel genes to physiology of cortical neuron types\n",
      "Neuroscience -> Neuroscience | Bayesian Inference of a Spectral Graph Model for Brain Oscillations\n",
      "Neuroscience -> Neuroscience | Recurrent connectivity structure controls the emergence of co-tuned excitation and inhibition\n",
      "Computer Science -> Computer Science/Artificial Intelligence | JANA: Jointly Amortized Neural Approximation of Complex Bayesian Models\n",
      "Physics -> Computational biophysics | Simulation-based inference of single-molecule force spectroscopy\n",
      "Statistics -> Statistics | Sampling-Based Accuracy Testing of Posterior Estimators for General Inference\n",
      "Neuroscience -> Neuroscience | Simulation-based inference for efficient identification of generative models in connectomics\n",
      "Statistics -> Computer Science/Artificial Intelligence (Machine Learning) | Misspecification-robust Sequential Neural Likelihood\n",
      "Computer Science -> Artificial Intelligence/Machine Learning | SOBER: Scalable Batch Bayesian Optimization and Quadrature using Recombination Constraints\n",
      "Evolutionary biology -> Mathematical Modeling | PhyloCoalSimulations: A simulator for network multispecies coalescent models, including a new extension for the inheritance of gene flow\n",
      "Astrophysics -> Astrophysics | Neural posterior estimation for exoplanetary atmospheric retrieval\n",
      "Astrophysics -> Physics and Astronomy | Debiasing Standard Siren Inference of the Hubble Constant with Marginal Neural Ratio Estimation\n",
      "Systems biology -> Machine learning | Missing data in amortized simulation-based neural posterior estimation\n",
      "Evolutionary biology -> Genetics and Evolution | Mutation rate, selection, and epistasis inferred from RNA virus haplotypes via neural posterior estimation\n",
      "Astrophysics -> Astronomy and Astrophysics | A simulation-based inference pipeline for cosmic shear with the Kilo-Degree Survey\n",
      "Statistics -> Statistics | Truncated Marginal Neural Ratio Estimation\n",
      "Statistics -> Computer Science / Machine Learning | Validation Diagnostics for SBI algorithms based on Normalizing Flows\n",
      "Astrophysics -> Neuroscience | Detection is truncation: studying source populations with truncated marginal neural ratio estimation\n",
      "Astrophysics -> Astrophysics | Strong Lensing Parameter Estimation on Ground-Based Imaging Data Using Simulation-Based Inference\n",
      "Astrophysics -> Astronomy | Amortized Bayesian Inference for Supernovae in the Era of the Vera Rubin Observatory Using Normalizing Flows\n",
      "Astrophysics -> Statistics | Monte Carlo Techniques for Addressing Large Errors and Missing Data in Simulation-based Inference\n",
      "Astrophysics -> Category: Astrophysics/Astronomy | DIGS: Deep Inference of Galaxy Spectra with Neural Posterior Estimation\n",
      "Computer Science -> Statistics and Probability | Maximum Likelihood Learning of Unnormalized Models for Simulation-Based Inference\n",
      "Computer Science -> Artificial Intelligence | Efficient Data Mosaicing with Simulation-based Inference\n",
      "Economics -> Statistics and Probability | Fast Estimation of Bayesian State Space Models Using Amortized Simulation-Based Inference\n",
      "Statistics -> Machine Learning | New Machine Learning Techniques for Simulation-Based Inference: InferoStatic Nets, Kernel Score Estimation, and Kernel Likelihood Ratio Estimation\n",
      "Computer Science -> Computer Science / Artificial Intelligence | Compositional Score Modeling for Simulation-based Inference\n",
      "Statistics -> Statistics | Simulation-based inference of Bayesian hierarchical models while checking for model misspecification\n",
      "Statistics -> Statistics | Truncated proposals for scalable and hassle-free simulation-based inference\n",
      "Statistics -> Computer Science / Artificial Intelligence | Contrastive Neural Ratio Estimation\n",
      "Statistics -> Category: Statistics and Probability | A Trust Crisis In Simulation-Based Inference? Your Posterior Approximations Can Be Unfaithful\n",
      "Statistics -> Neuroscience | Investigating the Impact of Model Misspecification in Neural Simulation-based Inference\n",
      "Statistics -> Artificial Intelligence / Machine Learning | Towards Reliable Simulation-Based Inference with Balanced Neural Ratio Estimation\n",
      "Astrophysics -> Computer Science / Artificial Intelligence / Machine Learning | Uncovering dark matter density profiles in dwarf galaxies with graph neural networks\n",
      "Astrophysics -> Astrophysics/Cosmology | Estimating Cosmological Constraints from Galaxy Cluster Abundance using Simulation-Based Inference\n",
      "Astrophysics -> Artificial Intelligence/Machine Learning | Neural Posterior Estimation with Differentiable Simulators\n",
      "Astrophysics -> Astronomy and Astrophysics | The Disordered Heterogeneous Universe: Galaxy Distribution and Clustering Across Length Scales\n",
      "Astrophysics -> Computer Science / Machine Learning | Towards reconstructing the halo clustering and halo mass function of N-body simulations using neural ratio estimation\n",
      "Statistics -> Mathematics and Statistics | Simulation-Based Inference with Waldo: Confidence Regions by Leveraging Prediction Algorithms or Posterior Estimators for Inverse Problems\n",
      "Computer Science -> Computational modeling | Calibrating Agent-based Models to Microdata with Graph Neural Networks\n",
      "Computer Science -> Category: Computational Statistics and Data Analysis | Efficient identification of informative features in simulation-based inference\n",
      "Astrophysics -> Cosmology | Estimating the warm dark matter mass from strong lensing images with truncated marginal neural ratio estimation\n",
      "Statistics -> Statistics | Balancing Simulation-based Inference for Conservative Posteriors\n",
      "Astrophysics -> Astrophysics/Cosmology | The angular power spectrum of gravitational-wave transient sources as a probe of the large-scale structure\n",
      "Quantitative Biology -> Computational biology and bioinformatics | Optimal Design of Experiments for Simulation-Based Inference of Mechanistic Acyclic Biological Networks\n",
      "Statistics -> Statistics | A Note on Simulation-Based Inference by Matching Random Features\n",
      "Computer Science -> Robotics | Simulation-based Bayesian inference for robotic grasping\n",
      "Statistics -> Statistics | Simulation-based inference methods for partially observed Markov model via the R package is2\n",
      "Economics -> Artificial Intelligence and Machine Learning | Fast Simulation-Based Bayesian Estimation of Heterogeneous and Representative Agent Models using Normalizing Flow Neural Networks\n",
      "Astrophysics -> Physics | Lightning-Fast Gravitational Wave Parameter Inference through Neural Amortization\n",
      "Statistics -> Education/Pedagogy | Cognitive Transfer Outcomes for a Simulation-Based Introductory Statistics Curriculum\n",
      "Mathematics -> Statistics | Simulation-based, Finite-sample Inference for Privatized Data\n",
      "Statistics -> Machine Learning | Amortized Bayesian Inference for Models of Cognition\n",
      "Mathematics -> Statistics | Reallocating and Resampling: A Comparison for Inference\n",
      "Statistics -> Statistics | Solving high-dimensional parameter inference: marginal posterior densities & Moment Networks\n",
      "Computer Science -> Robotics | Simulation-based Bayesian inference for multi-fingered robotic grasping\n",
      "Statistics -> Statistics | Generalized Posteriors in Approximate Bayesian Computation\n",
      "Computer Science -> Computer Science | Simulation Intelligence: Towards a New Generation of Scientific Methods\n",
      "Statistics -> Machine learning / Artificial Intelligence / Neural Networks | Sequential Neural Posterior and Likelihood Approximation\n",
      "Computer Science -> Machine Learning | Group equivariant neural posterior estimation\n",
      "Physics -> Computational Science and Engineering | Scaling MadMiner with a deployment on REANA\n",
      "Computer Science -> Applied Mathematics | Amortized Bayesian Inference of GISAXS Data with Normalizing Flows\n",
      "Biophysics -> Computer simulations | Rapid coarse-grained simulation of whole cryo-tomograms\n",
      "Computer Science -> Robotics | Implicit representation priors meet Riemannian geometry for Bayesian robotic grasping\n",
      "Economics -> Economics | Black-box Bayesian inference for economic agent-based models\n",
      "Statistics -> Climate science | Statistical constraints on climate model parameters using a scalable cloud-based inference framework\n",
      "Physics -> Physics | Learning Electron Bunch Distribution along a FEL Beamline by Normalising Flows\n",
      "Biophysics -> Biochemistry and Biophysics | A maximum mean discrepancy approach reveals subtle changes in α-synuclein dynamics\n",
      "Biophysics -> Biochemistry | Quantifying binding kinetics with fluorescence microscopy\n",
      "Statistics -> Computational Statistics | AABC: approximate approximate Bayesian computation when simulating a large number of data sets is computationally infeasible\n",
      "Evolutionary biology -> Computational Biology | Inference of population genetics parameters using discriminator neural networks: an adversarial Monte Carlo approach\n",
      "Statistics -> Statistics | Simulation-Based Calibration Checking for Bayesian Computation: The Choice of Test Quantities Shapes Sensitivity\n",
      "Astrophysics -> Astrophysics/Cosmology | One never walks alone: the effect of the perturber population on subhalo measurements in strong gravitational lenses\n",
      "Astrophysics -> Cosmology | The likelihood of the 21-cm power spectrum\n",
      "Astrophysics -> Computational Statistics | Simulation-efficient marginal posterior estimation with swyft: stop wasting your precious time\n",
      "Astrophysics -> Astrophysics | Population-Level Inference of Strong Gravitational Lenses with Neural Network-Based Selection Correction\n",
      "Statistics -> Computational statistics | Constructing Summary Statistics for Approximate Bayesian Computation: Semi-automatic ABC\n",
      "Neuroscience -> Neuroscience | Eye-region specific ribbon tuning supports distinct modes of synaptic transmission in same-type cone-photoreceptors\n",
      "Computer Science -> Machine Learning/Artificial Intelligence | Transformers Can Do Bayesian Inference\n",
      "Statistics -> Mathematics/Statistics | Iterated filtering methods for Markov process epidemic models\n",
      "Mathematics -> Statistics | A General Approach for Simulation-based Bias Correction in High Dimensional Settings\n",
      "Computer Science -> Astronautics and space engineering | Spacecraft Collision Risk Assessment with Probabilistic Programming\n",
      "Bioinformatics -> Categorical Data Analysis | Efficient inference for agent-based models of real-world phenomena\n",
      "Statistics -> Mathematical Modeling | A simulation-based study of Zero-inflated Bernoulli model with various models for the susceptible probability\n",
      "Statistics -> Mathematics | Improved Marginal Unbiased Score Expansion (MUSE) via Implicit Differentiation\n",
      "Astrophysics -> Physics | Neural Importance Sampling for Rapid and Reliable Gravitational-Wave Inference\n",
      "Statistics -> Statistics | Generalised likelihood profiles for models with intractable likelihoods\n",
      "Statistics -> Mathematics / Statistics | Consistent and fast inference in compartmental models of epidemics using Poisson Approximate Likelihoods\n",
      "Computer Science -> Mathematics | The Theory and Algorithm of Ergodic Inference\n",
      "Statistics -> Machine learning and statistical methods | Learning summary features of time series for likelihood free inference\n",
      "Evolutionary biology -> Computational Biology and Bioinformatics | PipeMaster: inferring population divergence and demographic history with approximate Bayesian computation and supervised machine-learning in R\n",
      "Statistics -> Mathematics | Accelerate iterated filtering\n",
      "Statistics -> Statistics | Nearest-Neighbor Mixture Models for Non-Gaussian Spatial Processes\n",
      "Physics -> Thermodynamics | Quantitative Microscale Thermometry in Droplets Loaded with Gold Nanoparticles\n",
      "Statistics -> Mathematics (specifically Probability and Statistics) | A Piecewise Deterministic Markov Process via $(r,θ)$ swaps in hyperspherical coordinates\n",
      "Statistics -> Statistics | Bayesian spatio-temporal model for high-resolution short-term forecasting of precipitation fields\n",
      "Epidemiology -> Infectious Diseases | Quantifying transmission of emerging zoonoses: using mathematical models to maximize the value of surveillance data\n",
      "Astrophysics -> Mathematics | Strong-Lensing Source Reconstruction with Denoising Diffusion Restoration Models\n",
      "Astrophysics -> Astronomy and Astrophysics | The Cosmic Graph: Optimal Information Extraction from Large-Scale Structure using Catalogues\n",
      "Astrophysics -> Astrophysics/Cosmology | Deep Machine Learning in Cosmology: Evolution or Revolution?\n",
      "Astrophysics -> Astronomy and Astrophysics | Cosmology from Galaxy Redshift Surveys with PointNet\n",
      "Astrophysics -> Astrophysics/Cosmology | GLASS: Generator for Large Scale Structure\n",
      "Quantitative Biology -> Biology/Biochemistry | Experimental design for causal query estimation in partially observed biomolecular networks\n",
      "Astrophysics -> Mathematics/Statistics | Modeling halo and central galaxy orientations on the SO(3) manifold with score-based generative models\n",
      "Computer Science -> Engineering | Real-time parameter inference in reduced-order flame models with heteroscedastic Bayesian neural network ensembles\n",
      "Statistics -> Statistics and Probability | Neural Likelihood Surfaces for Spatial Processes with Computationally Intensive or Intractable Likelihoods\n",
      "Statistics -> Statistics | Accelerating Bayesian inference for stochastic epidemic models using incidence data\n",
      "Statistics -> Statistics | An integer grid bridge sampler for the Bayesian inference of incomplete birth-death records\n",
      "Neuroscience -> Neuroscience | The virtual aging brain: a model-driven explanation for cognitive decline in older subjects\n",
      "Statistics -> Statistics | A Flexible Bias Correction Method based on Inconsistent Estimators\n",
      "Statistics -> Computational Statistics | bssm: Bayesian Inference of Non-linear and Non-Gaussian State Space Models in R\n",
      "Astrophysics -> Astrophysics | Deducing Neutron Star Equation of State from Telescope Spectra with Machine-learning-derived Likelihoods\n",
      "Statistics -> Statistics | Bridging Bayesian, frequentist and fiducial (BFF) inferences using confidence distribution\n",
      "Statistics -> cognitive neuroscience | Neural Superstatistics: A Bayesian Method for Estimating Dynamic Models of Cognition\n",
      "Astrophysics -> Category: Astronomy/Cosmology | pmwd: A Differentiable Cosmological Particle-Mesh $N$-body Library\n",
      "Systems biology -> Mathematical modeling | A profile likelihood-based workflow for identifiability analysis, estimation, and prediction with mechanistic mathematical models\n",
      "Evolutionary biology -> Bioinformatics | Deep Learning from Phylogenies for Diversification Analyses\n",
      "Statistics -> Statistics | Efficient Multifidelity Likelihood-Free Bayesian Inference with Adaptive Computational Resource Allocation\n",
      "Statistics -> Machine Learning / Artificial Intelligence | Likelihood-Free Inference with Generative Neural Networks via Scoring Rule Minimization\n",
      "Statistics -> Statistics | Learning Optimal Test Statistics in the Presence of Nuisance Parameters\n",
      "Computer Science -> Economics and Finance | Towards Evology: a Market Ecology Agent-Based Model of US Equity Mutual Funds\n",
      "Computer Science -> Robotics | Perspectives on Sim2Real Transfer for Robotics: A Summary of the R:SS 2020 Workshop\n",
      "Systems biology -> Computational biology | FitMultiCell: Simulating and parameterizing computational models of multi-scale and multi-cellular processes\n",
      "Economics -> Statistics | Moment Inequalities in the Context of Simulated and Predicted Variables\n",
      "Physics -> Artificial Intelligence / Machine Learning (AI/ML) | Solving Simulation Systematics in and with AI/ML\n",
      "Astrophysics -> Astrophysics | Automating Inference of Binary Microlensing Events with Neural Density Estimation\n",
      "Statistics -> Mathematics / Statistics | A Deep Learning Method for Comparing Bayesian Hierarchical Models\n",
      "Genetics -> Mathematics | Numerical simulation of the two-locus Wright-Fisher stochastic differential equation with application to approximating transition probability densities\n",
      "Computer Science -> Statistics and Probability | SBI -- A toolkit for simulation-based inference\n",
      "Statistics -> Statistics and Probability | Variational methods for simulation-based inference\n",
      "Statistics -> Artificial Intelligence/Machine Learning | GATSBI: Generative Adversarial Training for Simulation-Based Inference\n",
      "Astrophysics -> Cosmology | Robust simulation-based inference in cosmology with Bayesian neural networks\n",
      "Computer Science -> Machine learning and statistics | Arbitrary Marginal Neural Ratio Estimation for Simulation-based Inference\n",
      "Astrophysics -> Astrophysics | Simulation-Based Inference of Strong Gravitational Lensing Parameters\n",
      "Computer Science -> Statistics and Probability | Simulation-Based Inference for Global Health Decisions\n",
      "Bioinformatics -> Bioinformatics | Cytopath: Simulation based inference of differentiation trajectories from RNA velocity fields\n",
      "Evolutionary biology -> Evolutionary Biology | Simulation-based inference of evolutionary parameters from adaptation dynamics using neural networks\n",
      "Computer Science -> Computer Science/Artificial Intelligence | Efficient State-space Exploration in Massively Parallel Simulation Based Inference\n",
      "Musicology -> Gender and sexuality studies | Examining Back-to-Back plays by gender, race, & sexual orientation\n",
      "Physics -> Astrophysics and Astronomy | Neural Posterior Estimation with guaranteed exact coverage: the ringdown of GW150914\n",
      "Computer Science -> Computer Science / Artificial Intelligence | Flow Matching for Scalable Simulation-Based Inference\n",
      "Statistics -> Statistics | Learning Robust Statistics for Simulation-based Inference under Model Misspecification\n",
      "Computer Science -> Computational Modeling and Simulation | Simultaneous identification of models and parameters of scientific simulators\n",
      "Statistics -> Mathematics and Statistics | Generalized Bayesian Inference for Scientific Simulators via Amortized Cost Estimation\n",
      "Statistics -> Machine learning | Variational Inference with Coverage Guarantees\n",
      "Astrophysics -> Astronomy/Astrophysics | ERGO-ML: Towards a robust machine learning model for inferring the fraction of accreted stars in galaxies from integral-field spectroscopic maps\n",
      "Statistics -> Statistics | L-C2ST: Local Diagnostics for Posterior Approximations in Simulation-Based Inference\n"
     ]
    }
   ],
   "source": [
    "import json\n",
    "\n",
    "papers = get_papers(as_dict=True)\n",
    "with open(\"backend/data/guess_category.json\", \"r\") as f:\n",
    "    results = json.load(f)\n",
    "\n",
    "for paper in papers:\n",
    "    if str(paper[\"id\"]) in results:\n",
    "        print(f\"{paper['category']} -> {results[str(paper['id'])]} | {paper['title']}\")"
   ]
  },
  {
   "cell_type": "code",
   "execution_count": null,
   "metadata": {},
   "outputs": [],
   "source": []
  },
  {
   "cell_type": "code",
   "execution_count": null,
   "metadata": {},
   "outputs": [],
   "source": []
  },
  {
   "cell_type": "code",
   "execution_count": null,
   "metadata": {},
   "outputs": [],
   "source": []
  },
  {
   "cell_type": "code",
   "execution_count": null,
   "metadata": {},
   "outputs": [],
   "source": []
  },
  {
   "attachments": {},
   "cell_type": "markdown",
   "metadata": {},
   "source": [
    "Patching category"
   ]
  },
  {
   "cell_type": "code",
   "execution_count": null,
   "metadata": {},
   "outputs": [],
   "source": [
    "from backend.database import get_paper, update_paper"
   ]
  },
  {
   "cell_type": "code",
   "execution_count": null,
   "metadata": {},
   "outputs": [],
   "source": [
    "paper = get_paper(\n",
    "    title=\"Robust simulation-based inference in cosmology with Bayesian neural networks\"\n",
    ")\n",
    "paper.arxiv_category_tag = None\n",
    "paper.category = \"Astrophysics\"\n",
    "update_paper(paper)"
   ]
  },
  {
   "cell_type": "code",
   "execution_count": null,
   "metadata": {},
   "outputs": [],
   "source": [
    "# Issue 84\n",
    "paper = get_paper(title=\"Rapid coarse-grained simulation of whole cryo-tomograms\")\n",
    "paper.category = \"Biophysics\"\n",
    "update_paper(paper)"
   ]
  },
  {
   "cell_type": "code",
   "execution_count": null,
   "metadata": {},
   "outputs": [],
   "source": [
    "# Issue 85\n",
    "paper = get_paper(title=\"Quantifying binding kinetics with fluorescence microscopy\")\n",
    "paper.category = \"Biophysics\"\n",
    "update_paper(paper)"
   ]
  },
  {
   "cell_type": "code",
   "execution_count": null,
   "metadata": {},
   "outputs": [],
   "source": [
    "paper = get_paper(\n",
    "    title=\"SimBIG: mock challenge for a forward modeling approach to galaxy clustering\"\n",
    ")\n",
    "paper.arxiv_category_tag = None\n",
    "paper.category = \"Astrophysics\"\n",
    "update_paper(paper)"
   ]
  },
  {
   "cell_type": "code",
   "execution_count": null,
   "metadata": {},
   "outputs": [],
   "source": [
    "paper = get_paper(\n",
    "    title=\"Neural Importance Sampling for Rapid and Reliable Gravitational-Wave Inference\"\n",
    ")\n",
    "paper.arxiv_category_tag = None\n",
    "paper.category = \"Astrophysics\"\n",
    "update_paper(paper)"
   ]
  },
  {
   "cell_type": "code",
   "execution_count": null,
   "metadata": {},
   "outputs": [],
   "source": []
  },
  {
   "cell_type": "code",
   "execution_count": null,
   "metadata": {},
   "outputs": [],
   "source": [
    "!python main.py --crawl"
   ]
  },
  {
   "cell_type": "code",
   "execution_count": null,
   "metadata": {},
   "outputs": [],
   "source": [
    "from backend.api import query_serp\n",
    "\n",
    "result = query_serp(term=\"simulation-based+inference\")"
   ]
  },
  {
   "cell_type": "code",
   "execution_count": null,
   "metadata": {},
   "outputs": [],
   "source": [
    "result[\"formatted_results\"]"
   ]
  },
  {
   "cell_type": "code",
   "execution_count": null,
   "metadata": {},
   "outputs": [],
   "source": [
    "# Only remake all .md posts\n",
    "from scholar.post_maker import remake_all_posts\n",
    "\n",
    "remake_all_posts()"
   ]
  },
  {
   "attachments": {},
   "cell_type": "markdown",
   "metadata": {},
   "source": [
    "# Archive\n"
   ]
  },
  {
   "attachments": {},
   "cell_type": "markdown",
   "metadata": {},
   "source": [
    "## Query SERP for older papers\n",
    "\n",
    "Get top-1000 relevant papers = 50 queries"
   ]
  },
  {
   "cell_type": "code",
   "execution_count": null,
   "metadata": {},
   "outputs": [],
   "source": [
    "from scholar.api import query_serp, query_arxiv, query_biorxiv\n",
    "from scholar.database import insert_paper\n",
    "\n",
    "# term = '\"simulation-based+inference\"'\n",
    "# next_url = None\n",
    "\n",
    "# term = None\n",
    "# next_url = \"https://serpapi.com/search.json?as_sdt=0%2C5&as_vis=1&as_ylo=2000&engine=google_scholar&hl=en&num=20&q=%22simulation-based%2Binference%22&start=100\"\n",
    "\n",
    "# for _ in range(5):\n",
    "#     results = query_serp(url=next_url, term=term, historical=True)\n",
    "\n",
    "#     for result in results[\"formatted_results\"]:\n",
    "#         # Append extra arxiv data\n",
    "#         if result[\"journal\"] == \"arxiv.org\":\n",
    "#             arxiv_data = query_arxiv(result[\"arxiv_id\"])\n",
    "#             if arxiv_data is not None:\n",
    "#                 result.update(arxiv_data)\n",
    "\n",
    "#         # Append extra biorxiv data\n",
    "#         if result[\"journal\"] == \"biorxiv.org\":\n",
    "#             biorxiv_data = query_biorxiv(result[\"doi\"])\n",
    "#             if biorxiv_data is not None:\n",
    "#                 result.update(biorxiv_data)\n",
    "\n",
    "#         # Insert into database\n",
    "#         insert_result(result)\n",
    "\n",
    "#         try:\n",
    "#             next_url = results[\"serpapi_pagination\"][\"next\"]\n",
    "#             term = None\n",
    "#         except KeyError:\n",
    "#             break"
   ]
  }
 ],
 "metadata": {
  "kernelspec": {
   "display_name": "sbi",
   "language": "python",
   "name": "python3"
  },
  "language_info": {
   "codemirror_mode": {
    "name": "ipython",
    "version": 3
   },
   "file_extension": ".py",
   "mimetype": "text/x-python",
   "name": "python",
   "nbconvert_exporter": "python",
   "pygments_lexer": "ipython3",
   "version": "3.10.11"
  },
  "orig_nbformat": 4
 },
 "nbformat": 4,
 "nbformat_minor": 2
}
