{
 "cells": [
  {
   "cell_type": "code",
   "execution_count": null,
   "metadata": {},
   "outputs": [],
   "source": [
    "!python main.py"
   ]
  },
  {
   "cell_type": "code",
   "execution_count": null,
   "metadata": {},
   "outputs": [],
   "source": [
    "# Master reset all databases and posts\n",
    "from main import reset\n",
    "\n",
    "reset()"
   ]
  },
  {
   "cell_type": "code",
   "execution_count": null,
   "metadata": {},
   "outputs": [],
   "source": [
    "# Only remake all .md posts\n",
    "from scholar.post_maker import make_all\n",
    "\n",
    "make_all(overwrite=True)"
   ]
  },
  {
   "attachments": {},
   "cell_type": "markdown",
   "metadata": {},
   "source": [
    "# Archive\n",
    "\n",
    "Contains 1 off snippets to make change to the system."
   ]
  },
  {
   "attachments": {},
   "cell_type": "markdown",
   "metadata": {},
   "source": [
    "## Add new column called arxiv_term in SQLite"
   ]
  },
  {
   "cell_type": "code",
   "execution_count": null,
   "metadata": {},
   "outputs": [],
   "source": [
    "import sqlite3\n",
    "\n",
    "# Reset the new columns\n",
    "# with sqlite3.connect('scholar/paper.db') as conn:\n",
    "#     c = conn.cursor()\n",
    "#     c.execute('ALTER TABLE paper DROP COLUMN arxiv_term_short;')\n",
    "#     c.execute('ALTER TABLE paper DROP COLUMN arxiv_term_long;')\n",
    "#     conn.commit()\n",
    "\n",
    "with sqlite3.connect(\"scholar/paper.db\") as conn:\n",
    "    c = conn.cursor()\n",
    "    c.execute(\"ALTER TABLE paper ADD COLUMN category VARCHAR(255);\")\n",
    "    conn.commit()"
   ]
  },
  {
   "attachments": {},
   "cell_type": "markdown",
   "metadata": {},
   "source": [
    "## Compute new column"
   ]
  },
  {
   "cell_type": "code",
   "execution_count": null,
   "metadata": {},
   "outputs": [],
   "source": [
    "# import sqlite3\n",
    "# import pandas as pd\n",
    "# from scholar.database import Paper\n",
    "\n",
    "# with sqlite3.connect(\"scholar/paper.db\") as conn:\n",
    "\n",
    "#     # Add journal column\n",
    "#     cursor = conn.cursor()\n",
    "#     cursor.execute(\"ALTER TABLE paper ADD COLUMN journal VARCHAR(255);\")\n",
    "\n",
    "#     # Export data to pandas for easier manipulation\n",
    "#     df = pd.read_sql_query(\"SELECT * FROM paper\", conn)\n",
    "\n",
    "\n",
    "# # Extract journal name from publication_info_summary\n",
    "# journals = df.publication_info_summary.str.split(\" - \", expand=True)[2]\n",
    "\n",
    "# # Update the database\n",
    "# for record, new_value in zip(Paper.select(), journals):\n",
    "#     record.journal = new_value\n",
    "#     record.save()"
   ]
  },
  {
   "attachments": {},
   "cell_type": "markdown",
   "metadata": {},
   "source": [
    "## Extract from biorxiv API"
   ]
  },
  {
   "cell_type": "code",
   "execution_count": 8,
   "metadata": {},
   "outputs": [],
   "source": [
    "from scholar.database import Paper\n",
    "from scholar.api import to_doi, query_biorxiv"
   ]
  },
  {
   "cell_type": "code",
   "execution_count": 4,
   "metadata": {},
   "outputs": [],
   "source": [
    "papers = Paper.select().where(Paper.journal == \"biorxiv.org\")"
   ]
  },
  {
   "cell_type": "code",
   "execution_count": 9,
   "metadata": {},
   "outputs": [
    {
     "name": "stdout",
     "output_type": "stream",
     "text": [
      "https://www.biorxiv.org/content/10.1101/2023.04.17.537118.abstract\n",
      "https://www.biorxiv.org/content/10.1101/2023.03.06.531327.abstract\n",
      "https://www.biorxiv.org/content/10.1101/2023.03.02.530774.abstract\n",
      "https://www.biorxiv.org/content/10.1101/2023.03.01.530704.abstract\n",
      "https://www.biorxiv.org/content/10.1101/2023.02.27.530253.abstract\n",
      "https://www.biorxiv.org/content/10.1101/2023.01.31.526269.abstract\n",
      "https://www.biorxiv.org/content/10.1101/2023.01.11.523690.abstract\n",
      "https://www.biorxiv.org/content/10.1101/2023.01.09.523219.abstract\n",
      "https://www.biorxiv.org/content/10.1101/2023.01.09.523230.abstract\n"
     ]
    }
   ],
   "source": [
    "for paper in papers:\n",
    "    print(paper.link)\n",
    "    paper.doi = to_doi(paper.link)\n",
    "\n",
    "    data = query_biorxiv(paper.doi)\n",
    "    paper.category = data[\"category\"]\n",
    "    paper.save()\n",
    "    \n",
    "\n"
   ]
  },
  {
   "cell_type": "code",
   "execution_count": null,
   "metadata": {},
   "outputs": [],
   "source": []
  }
 ],
 "metadata": {
  "kernelspec": {
   "display_name": "sbi",
   "language": "python",
   "name": "python3"
  },
  "language_info": {
   "codemirror_mode": {
    "name": "ipython",
    "version": 3
   },
   "file_extension": ".py",
   "mimetype": "text/x-python",
   "name": "python",
   "nbconvert_exporter": "python",
   "pygments_lexer": "ipython3",
   "version": "3.11.2"
  },
  "orig_nbformat": 4
 },
 "nbformat": 4,
 "nbformat_minor": 2
}
