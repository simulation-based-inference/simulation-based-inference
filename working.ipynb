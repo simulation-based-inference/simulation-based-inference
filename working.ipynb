{
 "cells": [
  {
   "cell_type": "code",
   "execution_count": null,
   "metadata": {},
   "outputs": [],
   "source": [
    "!python main.py"
   ]
  },
  {
   "cell_type": "code",
   "execution_count": 2,
   "metadata": {},
   "outputs": [
    {
     "name": "stdout",
     "output_type": "stream",
     "text": [
      "Collecting bs4\n",
      "  Downloading bs4-0.0.1.tar.gz (1.1 kB)\n",
      "  Preparing metadata (setup.py): started\n",
      "  Preparing metadata (setup.py): finished with status 'done'\n",
      "Collecting beautifulsoup4\n",
      "  Downloading beautifulsoup4-4.12.2-py3-none-any.whl (142 kB)\n",
      "     ---------------------------------------- 0.0/143.0 kB ? eta -:--:--\n",
      "     -------- ------------------------------ 30.7/143.0 kB 1.4 MB/s eta 0:00:01\n",
      "     -------------------------------------- 143.0/143.0 kB 2.8 MB/s eta 0:00:00\n",
      "Collecting soupsieve>1.2\n",
      "  Downloading soupsieve-2.4.1-py3-none-any.whl (36 kB)\n",
      "Building wheels for collected packages: bs4\n",
      "  Building wheel for bs4 (setup.py): started\n",
      "  Building wheel for bs4 (setup.py): finished with status 'done'\n",
      "  Created wheel for bs4: filename=bs4-0.0.1-py3-none-any.whl size=1266 sha256=4b880058f62b0385d64cce74e71ff7809f500136120eaed5b216da9733164f28\n",
      "  Stored in directory: c:\\users\\clo36\\appdata\\local\\pip\\cache\\wheels\\73\\2b\\cb\\099980278a0c9a3e57ff1a89875ec07bfa0b6fcbebb9a8cad3\n",
      "Successfully built bs4\n",
      "Installing collected packages: soupsieve, beautifulsoup4, bs4\n",
      "Successfully installed beautifulsoup4-4.12.2 bs4-0.0.1 soupsieve-2.4.1\n"
     ]
    }
   ],
   "source": [
    "!pip install bs4"
   ]
  },
  {
   "cell_type": "code",
   "execution_count": 4,
   "metadata": {},
   "outputs": [
    {
     "name": "stdout",
     "output_type": "stream",
     "text": [
      "Markdown file created successfully: SimBIG: mock challenge for a forward modeling approach to galaxy clustering\n",
      "Markdown file created successfully: Albatross: A scalable simulation-based inference pipeline for analysing stellar streams in the Milky Way\n",
      "Markdown file created successfully: Peregrine: Sequential simulation-based inference for gravitational wave signals\n",
      "Markdown file created successfully: Amortized Bayesian inference on generative dynamical network models of epilepsy using deep neural density estimators\n",
      "Markdown file created successfully: Simulation-based Inference for Model Parameterization on Analog Neuromorphic Hardware\n",
      "Markdown file created successfully: Investigating the turbulent hot gas in X-COP galaxy clusters\n",
      "Markdown file created successfully: Constraining the X-ray heating and reionization using 21-cm power spectra with Marginal Neural Ratio Estimation\n",
      "Markdown file created successfully: Modelling capture efficiency of single cell RNA-sequencing data improves inference of transcriptome-wide burst kinetics\n",
      "Markdown file created successfully: Ultra-High-Resolution Detector Simulation with Intra-Event Aware GAN and Self-Supervised Relational Reasoning\n",
      "Markdown file created successfully: Combined statistical-mechanistic modeling links ion channel genes to physiology of cortical neuron types\n",
      "Markdown file created successfully: Bayesian Inference of a Spectral Graph Model for Brain Oscillations\n",
      "Markdown file created successfully: Recurrent connectivity structure controls the emergence of co-tuned excitation and inhibition\n",
      "Markdown file created successfully: Determining Basal Mass Balance of Ice Shelves Using Simulation-Based Inference\n",
      "Markdown file created successfully: Towards Bayesian Full-Waveform Source Inversion using Simulation-Based Inference\n",
      "Markdown file created successfully: Estimation of erosion rate parameters from neural network inverse modeling of river profile and thermo-geochronology data\n",
      "Markdown file created successfully: Radar forward modelling as a precursor for statistical inference\n",
      "Markdown file created successfully: JANA: Jointly Amortized Neural Approximation of Complex Bayesian Models\n",
      "Markdown file created successfully: swyft: Scientific simulation-based inference at scale\n",
      "Markdown file created successfully: Simulation-based inference of single-molecule force spectroscopy\n",
      "Markdown file created successfully: Sampling-Based Accuracy Testing of Posterior Estimators for General Inference\n",
      "Markdown file created successfully: Simulation-based inference for efficient identification of generative models in connectomics\n",
      "Markdown file created successfully: Simulation-based inference for non-parametric statistical comparison of biomolecule dynamics\n",
      "Markdown file created successfully: Misspecification-robust sequential neural likelihood\n",
      "Markdown file created successfully: SOBER: Scalable Batch Bayesian Optimization and Quadrature using Recombination Constraints\n",
      "Markdown file created successfully: Analytical and Stochastic Numerical Methods for the Simulation of Subsurface Flow in Floodplains\n",
      "Markdown file created successfully: Improving Effectiveness of Simulation-Based Inference in the Massively Parallel Regime\n",
      "Markdown file created successfully: PhyloCoalSimulations: A simulator for network multispecies coalescent models, including a new extension for the inheritance of gene flow\n",
      "Markdown file created successfully: Neural posterior estimation for exoplanetary atmospheric retrieval\n",
      "Markdown file created successfully: Université Paris-Saclay, Inria, CEA Palaiseau, 91120, France louis. rouillard-odera@ inria. fr\n",
      "Markdown file created successfully: Debiasing Standard Siren Inference of the Hubble Constant with Marginal Neural Ratio Estimation\n",
      "Markdown file created successfully: Missing data in amortized simulation-based neural posterior estimation\n",
      "Markdown file created successfully: A data integration framework for spatial interpolation of temperature observations using climate model data\n",
      "Markdown file created successfully: Mutation rate, selection, and epistasis inferred from RNA virus haplotypes via neural posterior estimation\n",
      "Markdown file created successfully: Emulating hydrodynamic simulations with semi-analytic modeling: comparing the evolution of global quantities in the Santa Cruz SAM and IllustrisTNG\n",
      "Markdown file created successfully: Milky Way Structure Revealed by Galactic HII Regions\n",
      "Markdown file created successfully: Uncovering dark matter density profiles in dwarf galaxies with simulation-based inference and graph neural networks\n",
      "Markdown file created successfully: Learning fire spread dynamics with physics-constrained machine learning\n",
      "Markdown file created successfully: Simulation-based inference of differentiation trajectories from RNA velocity fields\n",
      "Markdown file created successfully: A simulation-based inference pipeline for cosmic shear with the Kilo-Degree Survey\n",
      "Markdown file created successfully: STUDENT PERFORMANCE IN CURRICULA CENTERED ON SIMULATION-BASED INFERENCE\n",
      "Markdown file created successfully: Truncated Marginal Neural Ratio Estimation\n",
      "Markdown file created successfully: Simulation-based inference of the 2D ex-situ stellar mass fraction distribution of galaxies using variational autoencoders\n",
      "Markdown file created successfully: Addressing out-of-distribution data for flow-based gravitational wave inference\n",
      "Markdown file created successfully: Validation Diagnostics for SBI algorithms based on Normalizing Flows\n",
      "Markdown file created successfully: Detection is truncation: studying source populations with truncated marginal neural ratio estimation\n",
      "Markdown file created successfully: Strong Lensing Parameter Estimation on Ground-Based Imaging Data Using Simulation-Based Inference\n",
      "Markdown file created successfully: Amortized bayesian inference for supernovae in the era of the vera rubin observatory using normalizing flows\n",
      "Markdown file created successfully: Monte Carlo Techniques for Addressing Large Errors and Missing Data in Simulation-based Inference\n",
      "Markdown file created successfully: DIGS: Deep Inference of Galaxy Spectra with Neural Posterior Estimation\n",
      "Markdown file created successfully: Approximate Bayesian Computation for Panel Data with Signature Maximum Mean Discrepancies\n",
      "Markdown file created successfully: Maximum Likelihood Learning of Energy-Based Models for Simulation-Based Inference\n",
      "Markdown file created successfully: Audio Mosaicing with Simulation-based Inference\n",
      "Markdown file created successfully: COMPASS project proposal: Scaling up simulation based inference to whole genome data\n",
      "Markdown file created successfully: Fast Estimation of Bayesian State Space Models Using Amortized Simulation-Based Inference\n",
      "Markdown file created successfully: Meta-Uncertainty in Bayesian Model Comparison\n",
      "Markdown file created successfully: Rethinking the Statistical Analysis of Neuromechanical Data\n",
      "Markdown file created successfully: New Machine Learning Techniques for Simulation-Based Inference: InferoStatic Nets, Kernel Score Estimation, and Kernel Likelihood Ratio Estimation\n",
      "Markdown file created successfully: paltas: Simulation-based inference on strong gravitational lensing systems\n",
      "Markdown file created successfully: Score Modeling for Simulation-based Inference\n",
      "Markdown file created successfully: Full posterior estimation of Gray Matter cytoarchitecture using a three-compartment model with exchange: a simulation-based study\n",
      "Markdown file created successfully: Amortised inference in diffusion MRI biophysical models using artificial neural networks and simulation-based frameworks\n",
      "Markdown file created successfully: Simulation-based inference of Bayesian hierarchical models while checking for model misspecification\n",
      "Markdown file created successfully: Truncated proposals for scalable and hassle-free simulation-based inference\n",
      "Markdown file created successfully: Contrastive Neural Ratio Estimation\n",
      "Markdown file created successfully: A Crisis In Simulation-Based Inference? Beware, Your Posterior Approximations Can Be Unfaithful\n",
      "Markdown file created successfully: Neural Posterior Estimation of hierarchical models in neuroscience\n",
      "Markdown file created successfully: Investigating the impact of model misspecification in neural simulation-based inference\n",
      "Markdown file created successfully: Towards Reliable Simulation-Based Inference with Balanced Neural Ratio Estimation\n",
      "Markdown file created successfully: Bayesian Estimation of Large-Scale Simulation Models with Gaussian Process Regression Surrogates\n",
      "Markdown file created successfully: Using simulation-based inference to determine the parameters of an integrated hydrologic model: a case study from the upper Colorado River basin\n",
      "Markdown file created successfully: Quantitative Insights into the Role of Copy Number Variants in Adaptive Evolution\n",
      "Markdown file created successfully: Simulation Based Inference in'Tiny Data'Biology.\n",
      "Markdown file created successfully: Practical estimation methods for high-dimensional multivariate stochastic volatility models\n",
      "Markdown file created successfully: Normalizing flows for likelihood-free inference with fusion simulations\n",
      "Markdown file created successfully: swyft: Truncated Marginal Neural Ratio Estimation in Python\n",
      "Markdown file created successfully: Uncovering dark matter density profiles in dwarf galaxies with graph neural networks\n",
      "Markdown file created successfully: Estimating Cosmological Constraints from Galaxy Cluster Abundance using Simulation-Based Inference\n",
      "Markdown file created successfully: Fast Estimation of Physical Galaxy Properties using Simulation-Based Inference\n",
      "Markdown file created successfully: Neural Posterior Estimation with Differentiable Simulators\n",
      "Markdown file created successfully: Bayesian model comparison for simulation-based inference\n",
      "Markdown file created successfully: Towards reliable simulation-based inference\n",
      "Markdown file created successfully: Machine Learning and LHC Event Generation\n",
      "Markdown file created successfully: Disordered Heterogeneous Universe: Galaxy Distribution and Clustering across Length Scales\n",
      "Markdown file created successfully: Book Review: Multivariate Data Integration Using R: Methods and Applications with the mixOmics Package, by Kim-Ahn Lê Cao and Zoe Welham, Boca Raton …\n",
      "Markdown file created successfully: Modern Data Science with R by Benjamin S. Baumer, Daniel T. Kaplan, and Nicholas J. Horton, Boca Raton, FL: Chapman and Hall/CRC Press, 2021, 650 pp …\n",
      "Markdown file created successfully: Physics Degree\n",
      "Markdown file created successfully: Simulation based inference for high dimensional inverse problems: application to magnetic resonance fingerprinting\n",
      "Markdown file created successfully: From Synapses to Circuits: Different Levels of Functional Modeling of the Retina\n",
      "Markdown file created successfully: Towards reconstructing the halo clustering and halo mass function of N-body simulations using neural ratio estimation\n",
      "Markdown file created successfully: Calibrating agent-based models to microdata with graph neural networks\n",
      "Markdown file created successfully: Architectures for online simulation-based inference applied to robot motion planning\n",
      "Markdown file created successfully: Designing a Large, Online Simulation-Based Introductory Statistics Course\n",
      "Markdown file created successfully: A Trust Crisis In Simulation-Based Inference? Your Posterior Approximations Can Be Unfaithful\n",
      "Markdown file created successfully: Simulation-Based Inference with WALDO: Perfectly Calibrated Confidence Regions Using Any Prediction or Posterior Estimation Algorithm\n",
      "Markdown file created successfully: Un-Biasing Standard Siren Inference of the Hubble Constant\n",
      "Markdown file created successfully: Calibrating Agent-based Models to Microdata with Graph Neural Networks\n",
      "Markdown file created successfully: Neural networks enable efficient and accurate simulation-based inference of evolutionary parameters from adaptation dynamics\n",
      "Markdown file created successfully: Efficient identification of informative features in simulation-based inference\n",
      "Markdown file created successfully: Estimating the warm dark matter mass from strong lensing images with truncated marginal neural ratio estimation\n",
      "Markdown file created successfully: Uncertainty quantification for melt rate parameters in ice shelves using simulation-based inference\n",
      "Markdown file created successfully: Simulation-based inference: proceed with caution!\n",
      "Markdown file created successfully: Simulation based inference for exoplanet characterization\n",
      "Markdown file created successfully: Applications of Neural Probabilistic Modeling to High Energy and Astrophysics\n",
      "Markdown file created successfully: SBI++: Flexible, Ultra-fast Likelihood-free Inference Customized for Astronomical Application\n"
     ]
    }
   ],
   "source": [
    "from scholar.post_maker import make_all\n",
    "\n",
    "make_all(overwrite=True)"
   ]
  },
  {
   "attachments": {},
   "cell_type": "markdown",
   "metadata": {},
   "source": [
    "# Archive"
   ]
  },
  {
   "attachments": {},
   "cell_type": "markdown",
   "metadata": {},
   "source": [
    "## Add new column called arxiv_term in SQLite"
   ]
  },
  {
   "cell_type": "code",
   "execution_count": null,
   "metadata": {},
   "outputs": [],
   "source": [
    "import sqlite3\n",
    "\n",
    "# Reset the new columns\n",
    "# with sqlite3.connect('scholar/paper.db') as conn:\n",
    "#     c = conn.cursor()\n",
    "#     c.execute('ALTER TABLE paper DROP COLUMN arxiv_term_short;')\n",
    "#     c.execute('ALTER TABLE paper DROP COLUMN arxiv_term_long;')\n",
    "#     conn.commit()\n",
    "\n",
    "with sqlite3.connect(\"scholar/paper.db\") as conn:\n",
    "    c = conn.cursor()\n",
    "    c.execute(\"ALTER TABLE paper ADD COLUMN arxiv_group_tag VARCHAR(255);\")\n",
    "    c.execute(\"ALTER TABLE paper ADD COLUMN arxiv_category_tag VARCHAR(255);\")\n",
    "    conn.commit()"
   ]
  },
  {
   "attachments": {},
   "cell_type": "markdown",
   "metadata": {},
   "source": [
    "## Patch category and group tag to database"
   ]
  },
  {
   "cell_type": "code",
   "execution_count": null,
   "metadata": {},
   "outputs": [],
   "source": [
    "from time import sleep\n",
    "from scholar.database import Paper\n",
    "from scholar.api import ARXIV_GROUP, ARXIV_CATEGORY, get_arxiv_category\n",
    "\n",
    "p = Paper.select().where(Paper.arxiv_group_tag == None)\n",
    "\n",
    "for paper in p.iterator():\n",
    "    print(paper.title)\n",
    "    try:\n",
    "        category_tag = get_arxiv_category(paper.title)\n",
    "    except AttributeError:\n",
    "        print(f\"{paper.title} not found.\")\n",
    "        continue\n",
    "\n",
    "    # Make group tag and push to database\n",
    "    group_tag = category_tag.split(\".\")[0]\n",
    "    if group_tag in ARXIV_GROUP:\n",
    "        paper.arxiv_group_tag = group_tag\n",
    "\n",
    "    if category_tag in ARXIV_CATEGORY:\n",
    "        paper.arxiv_category_tag = category_tag\n",
    "    paper.save()\n",
    "    sleep(0.5)  # arxiv.org has a rate limit of 3 requests per second"
   ]
  }
 ],
 "metadata": {
  "kernelspec": {
   "display_name": "sbi",
   "language": "python",
   "name": "python3"
  },
  "language_info": {
   "codemirror_mode": {
    "name": "ipython",
    "version": 3
   },
   "file_extension": ".py",
   "mimetype": "text/x-python",
   "name": "python",
   "nbconvert_exporter": "python",
   "pygments_lexer": "ipython3",
   "version": "3.9.16"
  },
  "orig_nbformat": 4
 },
 "nbformat": 4,
 "nbformat_minor": 2
}
