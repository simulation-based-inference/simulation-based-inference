{
 "cells": [
  {
   "attachments": {},
   "cell_type": "markdown",
   "metadata": {},
   "source": [
    "Patching category"
   ]
  },
  {
   "cell_type": "code",
   "execution_count": null,
   "metadata": {},
   "outputs": [],
   "source": [
    "from backend.database import get_paper, update_paper\n",
    "\n",
    "\n",
    "def update(title: str, arxiv_category_tag: str) -> None:\n",
    "    \"\"\"Temp function to update the arxiv_category_tag of a paper.\"\"\"\n",
    "    paper = get_paper(title=title)\n",
    "    paper.update_arxiv_category_tag(arxiv_category_tag)\n",
    "    update_paper(paper)"
   ]
  },
  {
   "cell_type": "code",
   "execution_count": null,
   "metadata": {},
   "outputs": [],
   "source": [
    "update(\n",
    "    \"Robust simulation-based inference in cosmology with Bayesian neural networks\",\n",
    "    \"astro-ph\",\n",
    ")  # Issue 83"
   ]
  },
  {
   "cell_type": "code",
   "execution_count": null,
   "metadata": {},
   "outputs": [],
   "source": [
    "# Issue 84\n",
    "paper = get_paper(title=\"Rapid coarse-grained simulation of whole cryo-tomograms\")\n",
    "paper.category = \"Biophysics\"\n",
    "update_paper(paper)"
   ]
  },
  {
   "cell_type": "code",
   "execution_count": null,
   "metadata": {},
   "outputs": [],
   "source": [
    "# Issue 85\n",
    "paper = get_paper(title=\"Quantifying binding kinetics with fluorescence microscopy\")\n",
    "paper.category = \"Biophysics\"\n",
    "update_paper(paper)"
   ]
  },
  {
   "cell_type": "code",
   "execution_count": null,
   "metadata": {},
   "outputs": [],
   "source": [
    "update(\n",
    "    \"SimBIG: mock challenge for a forward modeling approach to galaxy clustering\",\n",
    "    \"astro-ph\",\n",
    ")  # Issue 86"
   ]
  },
  {
   "cell_type": "code",
   "execution_count": null,
   "metadata": {},
   "outputs": [],
   "source": [
    "update(\n",
    "    \"Neural Importance Sampling for Rapid and Reliable Gravitational-Wave Inference\",\n",
    "    \"astro-ph\",\n",
    ")  # Issue 87"
   ]
  },
  {
   "cell_type": "code",
   "execution_count": null,
   "metadata": {},
   "outputs": [],
   "source": []
  },
  {
   "cell_type": "code",
   "execution_count": null,
   "metadata": {},
   "outputs": [],
   "source": [
    "!python main.py --crawl"
   ]
  },
  {
   "cell_type": "code",
   "execution_count": null,
   "metadata": {},
   "outputs": [],
   "source": [
    "from backend.api import query_serp\n",
    "\n",
    "result = query_serp(term=\"simulation-based+inference\")"
   ]
  },
  {
   "cell_type": "code",
   "execution_count": null,
   "metadata": {},
   "outputs": [],
   "source": [
    "result[\"formatted_results\"]"
   ]
  },
  {
   "cell_type": "code",
   "execution_count": null,
   "metadata": {},
   "outputs": [],
   "source": [
    "# Only remake all .md posts\n",
    "from scholar.post_maker import remake_all_posts\n",
    "\n",
    "remake_all_posts()"
   ]
  },
  {
   "attachments": {},
   "cell_type": "markdown",
   "metadata": {},
   "source": [
    "# Archive\n"
   ]
  },
  {
   "attachments": {},
   "cell_type": "markdown",
   "metadata": {},
   "source": [
    "## Query SERP for older papers\n",
    "\n",
    "Get top-1000 relevant papers = 50 queries"
   ]
  },
  {
   "cell_type": "code",
   "execution_count": null,
   "metadata": {},
   "outputs": [],
   "source": [
    "from scholar.api import query_serp, query_arxiv, query_biorxiv\n",
    "from scholar.database import insert_paper\n",
    "\n",
    "# term = '\"simulation-based+inference\"'\n",
    "# next_url = None\n",
    "\n",
    "# term = None\n",
    "# next_url = \"https://serpapi.com/search.json?as_sdt=0%2C5&as_vis=1&as_ylo=2000&engine=google_scholar&hl=en&num=20&q=%22simulation-based%2Binference%22&start=100\"\n",
    "\n",
    "# for _ in range(5):\n",
    "#     results = query_serp(url=next_url, term=term, historical=True)\n",
    "\n",
    "#     for result in results[\"formatted_results\"]:\n",
    "#         # Append extra arxiv data\n",
    "#         if result[\"journal\"] == \"arxiv.org\":\n",
    "#             arxiv_data = query_arxiv(result[\"arxiv_id\"])\n",
    "#             if arxiv_data is not None:\n",
    "#                 result.update(arxiv_data)\n",
    "\n",
    "#         # Append extra biorxiv data\n",
    "#         if result[\"journal\"] == \"biorxiv.org\":\n",
    "#             biorxiv_data = query_biorxiv(result[\"doi\"])\n",
    "#             if biorxiv_data is not None:\n",
    "#                 result.update(biorxiv_data)\n",
    "\n",
    "#         # Insert into database\n",
    "#         insert_result(result)\n",
    "\n",
    "#         try:\n",
    "#             next_url = results[\"serpapi_pagination\"][\"next\"]\n",
    "#             term = None\n",
    "#         except KeyError:\n",
    "#             break"
   ]
  }
 ],
 "metadata": {
  "kernelspec": {
   "display_name": "sbi",
   "language": "python",
   "name": "python3"
  },
  "language_info": {
   "codemirror_mode": {
    "name": "ipython",
    "version": 3
   },
   "file_extension": ".py",
   "mimetype": "text/x-python",
   "name": "python",
   "nbconvert_exporter": "python",
   "pygments_lexer": "ipython3",
   "version": "3.10.11"
  },
  "orig_nbformat": 4
 },
 "nbformat": 4,
 "nbformat_minor": 2
}
