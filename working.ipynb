{
 "cells": [
  {
   "cell_type": "code",
   "execution_count": null,
   "metadata": {},
   "outputs": [],
   "source": [
    "!python main.py"
   ]
  },
  {
   "cell_type": "code",
   "execution_count": null,
   "metadata": {},
   "outputs": [],
   "source": [
    "# Master reset all databases and posts\n",
    "# Need quite a few SERP API credits to run this, do not try this too often\n",
    "\n",
    "from main import reset\n",
    "reset()"
   ]
  },
  {
   "cell_type": "code",
   "execution_count": 1,
   "metadata": {},
   "outputs": [
    {
     "data": {
      "text/plain": [
       "'Super man'"
      ]
     },
     "execution_count": 1,
     "metadata": {},
     "output_type": "execute_result"
    }
   ],
   "source": [
    "title = \"super man\"\n",
    "title.capitalize()"
   ]
  },
  {
   "cell_type": "code",
   "execution_count": null,
   "metadata": {},
   "outputs": [],
   "source": [
    "# Only remake all .md posts\n",
    "from scholar.post_maker import make_all\n",
    "make_all(overwrite=True)"
   ]
  },
  {
   "attachments": {},
   "cell_type": "markdown",
   "metadata": {},
   "source": [
    "# Archive\n",
    "\n",
    "Contains 1 off snippets to make change to the system."
   ]
  },
  {
   "attachments": {},
   "cell_type": "markdown",
   "metadata": {},
   "source": [
    "## Add new column called arxiv_term in SQLite"
   ]
  },
  {
   "cell_type": "code",
   "execution_count": null,
   "metadata": {},
   "outputs": [],
   "source": [
    "# import sqlite3\n",
    "\n",
    "# Drop column\n",
    "# with sqlite3.connect('scholar/paper.db') as conn:\n",
    "#     c = conn.cursor()\n",
    "#     c.execute('ALTER TABLE paper DROP COLUMN arxiv_group_tag;')\n",
    "#     conn.commit()\n",
    "\n",
    "# with sqlite3.connect(\"scholar/paper.db\") as conn:\n",
    "#     c = conn.cursor()\n",
    "#     c.execute(\"ALTER TABLE paper ADD COLUMN category VARCHAR(255);\")\n",
    "#     conn.commit()"
   ]
  },
  {
   "attachments": {},
   "cell_type": "markdown",
   "metadata": {},
   "source": [
    "## Compute new column"
   ]
  },
  {
   "cell_type": "code",
   "execution_count": null,
   "metadata": {},
   "outputs": [],
   "source": [
    "# import sqlite3\n",
    "# import pandas as pd\n",
    "# from scholar.database import Paper\n",
    "\n",
    "# with sqlite3.connect(\"scholar/paper.db\") as conn:\n",
    "\n",
    "#     # Add journal column\n",
    "#     cursor = conn.cursor()\n",
    "#     cursor.execute(\"ALTER TABLE paper ADD COLUMN journal VARCHAR(255);\")\n",
    "\n",
    "#     # Export data to pandas for easier manipulation\n",
    "#     df = pd.read_sql_query(\"SELECT * FROM paper\", conn)\n",
    "\n",
    "\n",
    "# # Extract journal name from publication_info_summary\n",
    "# journals = df.publication_info_summary.str.split(\" - \", expand=True)[2]\n",
    "\n",
    "# # Update the database\n",
    "# for record, new_value in zip(Paper.select(), journals):\n",
    "#     record.journal = new_value\n",
    "#     record.save()"
   ]
  },
  {
   "attachments": {},
   "cell_type": "markdown",
   "metadata": {},
   "source": [
    "## Extract from biorxiv API"
   ]
  },
  {
   "cell_type": "code",
   "execution_count": 2,
   "metadata": {},
   "outputs": [],
   "source": [
    "from scholar.database import Paper\n",
    "\n",
    "papers = Paper.select().where(Paper.journal == \"biorxiv.org\")\n",
    "\n",
    "for paper in papers:\n",
    "    paper.category = paper.category.capitalize()\n",
    "    paper.save()\n",
    "    "
   ]
  }
 ],
 "metadata": {
  "kernelspec": {
   "display_name": "sbi",
   "language": "python",
   "name": "python3"
  },
  "language_info": {
   "codemirror_mode": {
    "name": "ipython",
    "version": 3
   },
   "file_extension": ".py",
   "mimetype": "text/x-python",
   "name": "python",
   "nbconvert_exporter": "python",
   "pygments_lexer": "ipython3",
   "version": "3.10.11"
  },
  "orig_nbformat": 4
 },
 "nbformat": 4,
 "nbformat_minor": 2
}
