{
 "cells": [
  {
   "cell_type": "code",
   "execution_count": null,
   "metadata": {},
   "outputs": [],
   "source": [
    "!python main.py"
   ]
  },
  {
   "cell_type": "code",
   "execution_count": null,
   "metadata": {},
   "outputs": [],
   "source": [
    "# Master reset all databases and posts\n",
    "# Need quite a few SERP API credits to run this, do not try this too often\n",
    "\n",
    "from main import reset\n",
    "\n",
    "reset()"
   ]
  },
  {
   "cell_type": "code",
   "execution_count": 2,
   "metadata": {},
   "outputs": [
    {
     "name": "stderr",
     "output_type": "stream",
     "text": [
      "DEBUG:peewee:('SELECT \"t1\".\"id\", \"t1\".\"result_id\", \"t1\".\"created_at\", \"t1\".\"days_since_added\", \"t1\".\"published_on\", \"t1\".\"title\", \"t1\".\"publication_info_summary\", \"t1\".\"journal\", \"t1\".\"link\", \"t1\".\"snippet\", \"t1\".\"citation_backlink\", \"t1\".\"arxiv_id\", \"t1\".\"arxiv_category_tag\", \"t1\".\"category\", \"t1\".\"authors\", \"t1\".\"doi\" FROM \"paper\" AS \"t1\"', [])\n",
      "DEBUG:urllib3.connectionpool:Starting new HTTPS connection (1): arxiv.org:443\n",
      "DEBUG:urllib3.connectionpool:https://arxiv.org:443 \"GET /bibtex/2304.05281 HTTP/1.1\" 200 None\n",
      "DEBUG:root:Fetched BibTeX for arXiv ID 2304.05281\n",
      "DEBUG:root:response.text='@misc{wang2023sbi,\\n      title={SBI++: Flexible, Ultra-fast Likelihood-free Inference Customized for Astronomical Application}, \\n      author={Bingjie Wang and Joel Leja and V. Ashley Villar and Joshua S. Speagle},\\n      year={2023},\\n      eprint={2304.05281},\\n      archivePrefix={arXiv},\\n      primaryClass={astro-ph.IM}\\n}'\n"
     ]
    },
    {
     "name": "stdout",
     "output_type": "stream",
     "text": [
      "Markdown file created successfully: Methods and considerations for estimating parameters in biophysically detailed neural models with simulation based inference\n",
      "Markdown file created successfully: SBI++: Flexible, Ultra-fast Likelihood-free Inference Customized for Astronomical Application\n"
     ]
    },
    {
     "name": "stderr",
     "output_type": "stream",
     "text": [
      "DEBUG:urllib3.connectionpool:Starting new HTTPS connection (1): arxiv.org:443\n",
      "DEBUG:urllib3.connectionpool:https://arxiv.org:443 \"GET /bibtex/2304.06806 HTTP/1.1\" 200 None\n",
      "DEBUG:root:Fetched BibTeX for arXiv ID 2304.06806\n",
      "DEBUG:root:response.text='@misc{stillman2023graphinformed,\\n      title={Graph-informed simulation-based inference for models of active matter}, \\n      author={Namid R. Stillman and Silke Henkes and Roberto Mayor and Gilles Louppe},\\n      year={2023},\\n      eprint={2304.06806},\\n      archivePrefix={arXiv},\\n      primaryClass={cond-mat.soft}\\n}'\n",
      "DEBUG:urllib3.connectionpool:Starting new HTTPS connection (1): arxiv.org:443\n"
     ]
    },
    {
     "name": "stdout",
     "output_type": "stream",
     "text": [
      "Markdown file created successfully: SimBIG: mock challenge for a forward modeling approach to galaxy clustering\n",
      "Markdown file created successfully: Graph-informed simulation-based inference for models of active matter\n"
     ]
    },
    {
     "name": "stderr",
     "output_type": "stream",
     "text": [
      "DEBUG:urllib3.connectionpool:https://arxiv.org:443 \"GET /bibtex/2304.02032 HTTP/1.1\" 200 None\n",
      "DEBUG:root:Fetched BibTeX for arXiv ID 2304.02032\n",
      "DEBUG:root:response.text='@misc{alvey2023albatross,\\n      title={Albatross: A scalable simulation-based inference pipeline for analysing stellar streams in the Milky Way}, \\n      author={James Alvey and Mathis Gerdes and Christoph Weniger},\\n      year={2023},\\n      eprint={2304.02032},\\n      archivePrefix={arXiv},\\n      primaryClass={astro-ph.GA}\\n}'\n",
      "DEBUG:urllib3.connectionpool:Starting new HTTPS connection (1): arxiv.org:443\n",
      "DEBUG:urllib3.connectionpool:https://arxiv.org:443 \"GET /bibtex/2304.02035 HTTP/1.1\" 200 None\n",
      "DEBUG:root:Fetched BibTeX for arXiv ID 2304.02035\n",
      "DEBUG:root:response.text='@misc{bhardwaj2023peregrine,\\n      title={Peregrine: Sequential simulation-based inference for gravitational wave signals}, \\n      author={Uddipta Bhardwaj and James Alvey and Benjamin Kurt Miller and Samaya Nissanke and Christoph Weniger},\\n      year={2023},\\n      eprint={2304.02035},\\n      archivePrefix={arXiv},\\n      primaryClass={gr-qc}\\n}'\n",
      "DEBUG:urllib3.connectionpool:Starting new HTTPS connection (1): arxiv.org:443\n"
     ]
    },
    {
     "name": "stdout",
     "output_type": "stream",
     "text": [
      "Markdown file created successfully: Albatross: A scalable simulation-based inference pipeline for analysing stellar streams in the Milky Way\n",
      "Markdown file created successfully: Peregrine: Sequential simulation-based inference for gravitational wave signals\n",
      "Markdown file created successfully: Amortized Bayesian inference on generative dynamical network models of epilepsy using deep neural density estimators\n"
     ]
    },
    {
     "name": "stderr",
     "output_type": "stream",
     "text": [
      "DEBUG:urllib3.connectionpool:https://arxiv.org:443 \"GET /bibtex/2303.16056 HTTP/1.1\" 200 None\n",
      "DEBUG:root:Fetched BibTeX for arXiv ID 2303.16056\n",
      "DEBUG:root:response.text='@misc{kaiser2023simulationbased,\\n      title={Simulation-based Inference for Model Parameterization on Analog Neuromorphic Hardware}, \\n      author={Jakob Kaiser and Raphael Stock and Eric Müller and Johannes Schemmel and Sebastian Schmitt},\\n      year={2023},\\n      eprint={2303.16056},\\n      archivePrefix={arXiv},\\n      primaryClass={cs.NE}\\n}'\n",
      "DEBUG:urllib3.connectionpool:Starting new HTTPS connection (1): arxiv.org:443\n",
      "DEBUG:urllib3.connectionpool:https://arxiv.org:443 \"GET /bibtex/2303.15102v1 HTTP/1.1\" 200 None\n",
      "DEBUG:root:Fetched BibTeX for arXiv ID 2303.15102v1\n",
      "DEBUG:root:response.text='@misc{dupourqué2023investigating,\\n      title={Investigating the turbulent hot gas in X-COP galaxy clusters}, \\n      author={Simon Dupourqué and Nicolas Clerc and Etienne Pointecouteau and Dominique Eckert and Stefano Ettori and Franco Vazza},\\n      year={2023},\\n      eprint={2303.15102},\\n      archivePrefix={arXiv},\\n      primaryClass={astro-ph.CO}\\n}'\n",
      "DEBUG:urllib3.connectionpool:Starting new HTTPS connection (1): arxiv.org:443\n"
     ]
    },
    {
     "name": "stdout",
     "output_type": "stream",
     "text": [
      "Markdown file created successfully: Simulation-based Inference for Model Parameterization on Analog Neuromorphic Hardware\n",
      "Markdown file created successfully: Investigating the turbulent hot gas in X-COP galaxy clusters\n"
     ]
    },
    {
     "name": "stderr",
     "output_type": "stream",
     "text": [
      "DEBUG:urllib3.connectionpool:https://arxiv.org:443 \"GET /bibtex/2303.07339 HTTP/1.1\" 200 None\n",
      "DEBUG:root:Fetched BibTeX for arXiv ID 2303.07339\n",
      "DEBUG:root:response.text='@misc{saxena2023constraining,\\n      title={Constraining the X-ray heating and reionization using 21-cm power spectra with Marginal Neural Ratio Estimation}, \\n      author={Anchal Saxena and Alex Cole and Simon Gazagnes and P. Daniel Meerburg and Christoph Weniger and Samuel J. Witte},\\n      year={2023},\\n      eprint={2303.07339},\\n      archivePrefix={arXiv},\\n      primaryClass={astro-ph.CO}\\n}'\n",
      "DEBUG:urllib3.connectionpool:Starting new HTTPS connection (1): arxiv.org:443\n",
      "DEBUG:urllib3.connectionpool:https://arxiv.org:443 \"GET /bibtex/2303.08046 HTTP/1.1\" 200 None\n",
      "DEBUG:root:Fetched BibTeX for arXiv ID 2303.08046\n",
      "DEBUG:root:response.text='@misc{hashemi2023ultrahighresolution,\\n      title={Ultra-High-Resolution Detector Simulation with Intra-Event Aware GAN and Self-Supervised Relational Reasoning}, \\n      author={Hosein Hashemi and Nikolai Hartmann and Sahand Sharifzadeh and James Kahn and Thomas Kuhr},\\n      year={2023},\\n      eprint={2303.08046},\\n      archivePrefix={arXiv},\\n      primaryClass={physics.ins-det}\\n}'\n"
     ]
    },
    {
     "name": "stdout",
     "output_type": "stream",
     "text": [
      "Markdown file created successfully: Constraining the X-ray heating and reionization using 21-cm power spectra with Marginal Neural Ratio Estimation\n",
      "Markdown file created successfully: Modelling capture efficiency of single cell RNA-sequencing data improves inference of transcriptome-wide burst kinetics\n",
      "Markdown file created successfully: Ultra-High-Resolution Detector Simulation with Intra-Event Aware GAN and Self-Supervised Relational Reasoning\n",
      "Markdown file created successfully: Combined statistical-mechanistic modeling links ion channel genes to physiology of cortical neuron types\n",
      "Markdown file created successfully: Bayesian Inference of a Spectral Graph Model for Brain Oscillations\n",
      "Markdown file created successfully: Recurrent connectivity structure controls the emergence of co-tuned excitation and inhibition\n"
     ]
    },
    {
     "name": "stderr",
     "output_type": "stream",
     "text": [
      "DEBUG:urllib3.connectionpool:Starting new HTTPS connection (1): arxiv.org:443\n"
     ]
    },
    {
     "name": "stdout",
     "output_type": "stream",
     "text": [
      "Markdown file created successfully: Determining Basal Mass Balance of Ice Shelves Using Simulation-Based Inference\n",
      "Markdown file created successfully: Towards Bayesian Full-Waveform Source Inversion using Simulation-Based Inference\n",
      "Markdown file created successfully: Estimation of erosion rate parameters from neural network inverse modeling of river profile and thermo-geochronology data\n",
      "Markdown file created successfully: Radar forward modelling as a precursor for statistical inference\n"
     ]
    },
    {
     "name": "stderr",
     "output_type": "stream",
     "text": [
      "DEBUG:urllib3.connectionpool:https://arxiv.org:443 \"GET /bibtex/2302.09125 HTTP/1.1\" 200 None\n",
      "DEBUG:root:Fetched BibTeX for arXiv ID 2302.09125\n",
      "DEBUG:root:response.text='@misc{radev2023jana,\\n      title={JANA: Jointly Amortized Neural Approximation of Complex Bayesian Models}, \\n      author={Stefan T. Radev and Marvin Schmitt and Valentin Pratz and Umberto Picchini and Ullrich Köthe and Paul-Christian Bürkner},\\n      year={2023},\\n      eprint={2302.09125},\\n      archivePrefix={arXiv},\\n      primaryClass={cs.LG}\\n}'\n",
      "DEBUG:urllib3.connectionpool:Starting new HTTPS connection (1): arxiv.org:443\n"
     ]
    },
    {
     "name": "stdout",
     "output_type": "stream",
     "text": [
      "Markdown file created successfully: JANA: Jointly Amortized Neural Approximation of Complex Bayesian Models\n",
      "Markdown file created successfully: swyft: Scientific simulation-based inference at scale\n"
     ]
    },
    {
     "name": "stderr",
     "output_type": "stream",
     "text": [
      "DEBUG:urllib3.connectionpool:https://arxiv.org:443 \"GET /bibtex/2209.10392v2 HTTP/1.1\" 200 None\n",
      "DEBUG:root:Fetched BibTeX for arXiv ID 2209.10392v2\n",
      "DEBUG:root:response.text='@misc{dingeldein2022simulationbased,\\n      title={Simulation-based inference of single-molecule force spectroscopy}, \\n      author={Lars Dingeldein and Pilar Cossio and Roberto Covino},\\n      year={2022},\\n      eprint={2209.10392},\\n      archivePrefix={arXiv},\\n      primaryClass={physics.chem-ph}\\n}'\n",
      "DEBUG:urllib3.connectionpool:Starting new HTTPS connection (1): arxiv.org:443\n",
      "DEBUG:urllib3.connectionpool:https://arxiv.org:443 \"GET /bibtex/2302.03026 HTTP/1.1\" 200 None\n",
      "DEBUG:root:Fetched BibTeX for arXiv ID 2302.03026\n",
      "DEBUG:root:response.text='@misc{lemos2023samplingbased,\\n      title={Sampling-Based Accuracy Testing of Posterior Estimators for General Inference}, \\n      author={Pablo Lemos and Adam Coogan and Yashar Hezaveh and Laurence Perreault-Levasseur},\\n      year={2023},\\n      eprint={2302.03026},\\n      archivePrefix={arXiv},\\n      primaryClass={stat.ML}\\n}'\n"
     ]
    },
    {
     "name": "stdout",
     "output_type": "stream",
     "text": [
      "Markdown file created successfully: Simulation-based inference of single-molecule force spectroscopy\n",
      "Markdown file created successfully: Sampling-Based Accuracy Testing of Posterior Estimators for General Inference\n",
      "Markdown file created successfully: Simulation-based inference for efficient identification of generative models in connectomics\n",
      "Markdown file created successfully: Simulation-based inference for non-parametric statistical comparison of biomolecule dynamics\n"
     ]
    },
    {
     "name": "stderr",
     "output_type": "stream",
     "text": [
      "DEBUG:urllib3.connectionpool:Starting new HTTPS connection (1): arxiv.org:443\n",
      "DEBUG:urllib3.connectionpool:https://arxiv.org:443 \"GET /bibtex/2301.13368 HTTP/1.1\" 200 None\n",
      "DEBUG:root:Fetched BibTeX for arXiv ID 2301.13368\n",
      "DEBUG:root:response.text='@misc{kelly2023misspecificationrobust,\\n      title={Misspecification-robust Sequential Neural Likelihood}, \\n      author={Ryan P. Kelly and David J. Nott and David T. Frazier and David J. Warne and Chris Drovandi},\\n      year={2023},\\n      eprint={2301.13368},\\n      archivePrefix={arXiv},\\n      primaryClass={stat.ME}\\n}'\n",
      "DEBUG:urllib3.connectionpool:Starting new HTTPS connection (1): arxiv.org:443\n",
      "DEBUG:urllib3.connectionpool:https://arxiv.org:443 \"GET /bibtex/2301.11832 HTTP/1.1\" 200 None\n",
      "DEBUG:root:Fetched BibTeX for arXiv ID 2301.11832\n",
      "DEBUG:root:response.text='@misc{adachi2023sober,\\n      title={SOBER: Scalable Batch Bayesian Optimization and Quadrature using Recombination Constraints}, \\n      author={Masaki Adachi and Satoshi Hayakawa and Saad Hamid and Martin Jørgensen and Harald Oberhauser and Micheal A. Osborne},\\n      year={2023},\\n      eprint={2301.11832},\\n      archivePrefix={arXiv},\\n      primaryClass={cs.LG}\\n}'\n",
      "DEBUG:urllib3.connectionpool:Starting new HTTPS connection (1): arxiv.org:443\n"
     ]
    },
    {
     "name": "stdout",
     "output_type": "stream",
     "text": [
      "Markdown file created successfully: Misspecification-robust sequential neural likelihood\n",
      "Markdown file created successfully: SOBER: Scalable Batch Bayesian Optimization and Quadrature using Recombination Constraints\n",
      "Markdown file created successfully: Analytical and Stochastic Numerical Methods for the Simulation of Subsurface Flow in Floodplains\n",
      "Markdown file created successfully: Improving Effectiveness of Simulation-Based Inference in the Massively Parallel Regime\n",
      "Markdown file created successfully: PhyloCoalSimulations: A simulator for network multispecies coalescent models, including a new extension for the inheritance of gene flow\n"
     ]
    },
    {
     "name": "stderr",
     "output_type": "stream",
     "text": [
      "DEBUG:urllib3.connectionpool:https://arxiv.org:443 \"GET /bibtex/2301.06575 HTTP/1.1\" 200 None\n",
      "DEBUG:root:Fetched BibTeX for arXiv ID 2301.06575\n",
      "DEBUG:root:response.text='@misc{vasist2023neural,\\n      title={Neural posterior estimation for exoplanetary atmospheric retrieval}, \\n      author={Malavika Vasist and François Rozet and Olivier Absil and Paul Mollière and Evert Nasedkin and Gilles Louppe},\\n      year={2023},\\n      eprint={2301.06575},\\n      archivePrefix={arXiv},\\n      primaryClass={astro-ph.EP}\\n}'\n",
      "DEBUG:urllib3.connectionpool:Starting new HTTPS connection (1): arxiv.org:443\n",
      "DEBUG:urllib3.connectionpool:https://arxiv.org:443 \"GET /bibtex/2301.05241v1 HTTP/1.1\" 200 None\n",
      "DEBUG:root:Fetched BibTeX for arXiv ID 2301.05241v1\n",
      "DEBUG:root:response.text='@misc{gagnonhartman2023debiasing,\\n      title={Debiasing Standard Siren Inference of the Hubble Constant with Marginal Neural Ratio Estimation}, \\n      author={Samuel Gagnon-Hartman and John Ruan and Daryl Haggard},\\n      year={2023},\\n      eprint={2301.05241},\\n      archivePrefix={arXiv},\\n      primaryClass={astro-ph.CO}\\n}'\n"
     ]
    },
    {
     "name": "stdout",
     "output_type": "stream",
     "text": [
      "Markdown file created successfully: Neural posterior estimation for exoplanetary atmospheric retrieval\n",
      "Markdown file created successfully: Université Paris-Saclay, Inria, CEA Palaiseau, 91120, France louis. rouillard-odera@ inria. fr\n",
      "Markdown file created successfully: Debiasing Standard Siren Inference of the Hubble Constant with Marginal Neural Ratio Estimation\n",
      "Markdown file created successfully: Missing data in amortized simulation-based neural posterior estimation\n",
      "Markdown file created successfully: A data integration framework for spatial interpolation of temperature observations using climate model data\n",
      "Markdown file created successfully: Mutation rate, selection, and epistasis inferred from RNA virus haplotypes via neural posterior estimation\n"
     ]
    },
    {
     "name": "stderr",
     "output_type": "stream",
     "text": [
      "DEBUG:urllib3.connectionpool:Starting new HTTPS connection (1): arxiv.org:443\n",
      "DEBUG:urllib3.connectionpool:https://arxiv.org:443 \"GET /bibtex/2208.12825v1 HTTP/1.1\" 200 None\n",
      "DEBUG:root:Fetched BibTeX for arXiv ID 2208.12825v1\n",
      "DEBUG:root:response.text='@misc{nguyen2022uncovering,\\n      title={Uncovering dark matter density profiles in dwarf galaxies with graph neural networks}, \\n      author={Tri Nguyen and Siddharth Mishra-Sharma and Reuel Williams and Lina Necib},\\n      year={2022},\\n      eprint={2208.12825},\\n      archivePrefix={arXiv},\\n      primaryClass={astro-ph.CO}\\n}'\n",
      "DEBUG:urllib3.connectionpool:Starting new HTTPS connection (1): arxiv.org:443\n"
     ]
    },
    {
     "name": "stdout",
     "output_type": "stream",
     "text": [
      "Markdown file created successfully: Emulating hydrodynamic simulations with semi-analytic modeling: comparing the evolution of global quantities in the Santa Cruz SAM and IllustrisTNG\n",
      "Markdown file created successfully: Milky Way Structure Revealed by Galactic HII Regions\n",
      "Markdown file created successfully: Uncovering dark matter density profiles in dwarf galaxies with simulation-based inference and graph neural networks\n",
      "Markdown file created successfully: Learning fire spread dynamics with physics-constrained machine learning\n",
      "Markdown file created successfully: Simulation-based inference of differentiation trajectories from RNA velocity fields\n"
     ]
    },
    {
     "name": "stderr",
     "output_type": "stream",
     "text": [
      "DEBUG:urllib3.connectionpool:https://arxiv.org:443 \"GET /bibtex/2212.04521 HTTP/1.1\" 200 None\n",
      "DEBUG:root:Fetched BibTeX for arXiv ID 2212.04521\n",
      "DEBUG:root:response.text='@misc{lin2022simulationbased,\\n      title={A simulation-based inference pipeline for cosmic shear with the Kilo-Degree Survey}, \\n      author={Kiyam Lin and Maximilian von Wietersheim-Kramsta and Benjamin Joachimi and Stephen Feeney},\\n      year={2022},\\n      eprint={2212.04521},\\n      archivePrefix={arXiv},\\n      primaryClass={astro-ph.CO}\\n}'\n",
      "DEBUG:urllib3.connectionpool:Starting new HTTPS connection (1): arxiv.org:443\n",
      "DEBUG:urllib3.connectionpool:https://arxiv.org:443 \"GET /bibtex/2107.01214v2 HTTP/1.1\" 200 None\n",
      "DEBUG:root:Fetched BibTeX for arXiv ID 2107.01214v2\n",
      "DEBUG:root:response.text='@misc{miller2021truncated,\\n      title={Truncated Marginal Neural Ratio Estimation}, \\n      author={Benjamin Kurt Miller and Alex Cole and Patrick Forré and Gilles Louppe and Christoph Weniger},\\n      year={2021},\\n      eprint={2107.01214},\\n      archivePrefix={arXiv},\\n      primaryClass={stat.ML}\\n}'\n",
      "DEBUG:urllib3.connectionpool:Starting new HTTPS connection (1): arxiv.org:443\n"
     ]
    },
    {
     "name": "stdout",
     "output_type": "stream",
     "text": [
      "Markdown file created successfully: A simulation-based inference pipeline for cosmic shear with the Kilo-Degree Survey\n",
      "Markdown file created successfully: STUDENT PERFORMANCE IN CURRICULA CENTERED ON SIMULATION-BASED INFERENCE\n",
      "Markdown file created successfully: A Deep Learning Emulator for a Groundwater Model: Mapping Steady-State Water Table Depth\n",
      "Markdown file created successfully: Towards calibration of physics-based integrated surface-groundwater models using deep-learning based surrogates and simulation based inference\n",
      "Markdown file created successfully: Truncated Marginal Neural Ratio Estimation\n",
      "Markdown file created successfully: Simulation-based inference of the 2D ex-situ stellar mass fraction distribution of galaxies using variational autoencoders\n",
      "Markdown file created successfully: Addressing out-of-distribution data for flow-based gravitational wave inference\n"
     ]
    },
    {
     "name": "stderr",
     "output_type": "stream",
     "text": [
      "DEBUG:urllib3.connectionpool:https://arxiv.org:443 \"GET /bibtex/2211.09602 HTTP/1.1\" 200 None\n",
      "DEBUG:root:Fetched BibTeX for arXiv ID 2211.09602\n",
      "DEBUG:root:response.text='@misc{linhart2022validation,\\n      title={Validation Diagnostics for SBI algorithms based on Normalizing Flows}, \\n      author={Julia Linhart and Alexandre Gramfort and Pedro L. C. Rodrigues},\\n      year={2022},\\n      eprint={2211.09602},\\n      archivePrefix={arXiv},\\n      primaryClass={stat.ML}\\n}'\n",
      "DEBUG:urllib3.connectionpool:Starting new HTTPS connection (1): arxiv.org:443\n",
      "DEBUG:urllib3.connectionpool:https://arxiv.org:443 \"GET /bibtex/2211.04291v1 HTTP/1.1\" 200 None\n",
      "DEBUG:root:Fetched BibTeX for arXiv ID 2211.04291v1\n",
      "DEBUG:root:response.text='@misc{montel2022detection,\\n      title={Detection is truncation: studying source populations with truncated marginal neural ratio estimation}, \\n      author={Noemi Anau Montel and Christoph Weniger},\\n      year={2022},\\n      eprint={2211.04291},\\n      archivePrefix={arXiv},\\n      primaryClass={astro-ph.IM}\\n}'\n",
      "DEBUG:urllib3.connectionpool:Starting new HTTPS connection (1): arxiv.org:443\n"
     ]
    },
    {
     "name": "stdout",
     "output_type": "stream",
     "text": [
      "Markdown file created successfully: Validation Diagnostics for SBI algorithms based on Normalizing Flows\n",
      "Markdown file created successfully: Detection is truncation: studying source populations with truncated marginal neural ratio estimation\n"
     ]
    },
    {
     "name": "stderr",
     "output_type": "stream",
     "text": [
      "DEBUG:urllib3.connectionpool:https://arxiv.org:443 \"GET /bibtex/2211.05836 HTTP/1.1\" 200 None\n",
      "DEBUG:root:Fetched BibTeX for arXiv ID 2211.05836\n",
      "DEBUG:root:response.text='@misc{poh2022strong,\\n      title={Strong Lensing Parameter Estimation on Ground-Based Imaging Data Using Simulation-Based Inference}, \\n      author={Jason Poh and Ashwin Samudre and Aleksandra Ćiprijanović and Brian Nord and Gourav Khullar and Dimitrios Tanoglidis and Joshua A. Frieman},\\n      year={2022},\\n      eprint={2211.05836},\\n      archivePrefix={arXiv},\\n      primaryClass={astro-ph.IM}\\n}'\n",
      "DEBUG:urllib3.connectionpool:Starting new HTTPS connection (1): arxiv.org:443\n",
      "DEBUG:urllib3.connectionpool:https://arxiv.org:443 \"GET /bibtex/2211.04480 HTTP/1.1\" 200 None\n",
      "DEBUG:root:Fetched BibTeX for arXiv ID 2211.04480\n",
      "DEBUG:root:response.text='@misc{villar2022amortized,\\n      title={Amortized Bayesian Inference for Supernovae in the Era of the Vera Rubin Observatory Using Normalizing Flows}, \\n      author={V. Ashley Villar},\\n      year={2022},\\n      eprint={2211.04480},\\n      archivePrefix={arXiv},\\n      primaryClass={astro-ph.HE}\\n}'\n",
      "DEBUG:urllib3.connectionpool:Starting new HTTPS connection (1): arxiv.org:443\n"
     ]
    },
    {
     "name": "stdout",
     "output_type": "stream",
     "text": [
      "Markdown file created successfully: Strong Lensing Parameter Estimation on Ground-Based Imaging Data Using Simulation-Based Inference\n",
      "Markdown file created successfully: Amortized bayesian inference for supernovae in the era of the vera rubin observatory using normalizing flows\n"
     ]
    },
    {
     "name": "stderr",
     "output_type": "stream",
     "text": [
      "DEBUG:urllib3.connectionpool:https://arxiv.org:443 \"GET /bibtex/2211.03747 HTTP/1.1\" 200 None\n",
      "DEBUG:root:Fetched BibTeX for arXiv ID 2211.03747\n",
      "DEBUG:root:response.text='@misc{wang2022monte,\\n      title={Monte Carlo Techniques for Addressing Large Errors and Missing Data in Simulation-based Inference}, \\n      author={Bingjie Wang and Joel Leja and Ashley Villar and Joshua S. Speagle},\\n      year={2022},\\n      eprint={2211.03747},\\n      archivePrefix={arXiv},\\n      primaryClass={astro-ph.IM}\\n}'\n",
      "DEBUG:urllib3.connectionpool:Starting new HTTPS connection (1): arxiv.org:443\n",
      "DEBUG:urllib3.connectionpool:https://arxiv.org:443 \"GET /bibtex/2211.09126v1 HTTP/1.1\" 200 None\n",
      "DEBUG:root:Fetched BibTeX for arXiv ID 2211.09126v1\n",
      "DEBUG:root:response.text='@misc{khullar2022digs,\\n      title={DIGS: Deep Inference of Galaxy Spectra with Neural Posterior Estimation}, \\n      author={Gourav Khullar and Brian Nord and Aleksandra Ciprijanovic and Jason Poh and Fei Xu},\\n      year={2022},\\n      eprint={2211.09126},\\n      archivePrefix={arXiv},\\n      primaryClass={astro-ph.GA}\\n}'\n",
      "DEBUG:urllib3.connectionpool:Starting new HTTPS connection (1): arxiv.org:443\n"
     ]
    },
    {
     "name": "stdout",
     "output_type": "stream",
     "text": [
      "Markdown file created successfully: Monte Carlo Techniques for Addressing Large Errors and Missing Data in Simulation-based Inference\n",
      "Paper is blacklisted: ${\\rm S {\\scriptsize IM} BIG} $: Mock Challenge for a Forward Modeling Approach to Galaxy Clustering, skipping...\n",
      "Markdown file created successfully: DIGS: Deep Inference of Galaxy Spectra with Neural Posterior Estimation\n",
      "Markdown file created successfully: Approximate Bayesian Computation for Panel Data with Signature Maximum Mean Discrepancies\n"
     ]
    },
    {
     "name": "stderr",
     "output_type": "stream",
     "text": [
      "DEBUG:urllib3.connectionpool:https://arxiv.org:443 \"GET /bibtex/2210.14756 HTTP/1.1\" 200 None\n",
      "DEBUG:root:Fetched BibTeX for arXiv ID 2210.14756\n",
      "DEBUG:root:response.text='@misc{glaser2023maximum,\\n      title={Maximum Likelihood Learning of Unnormalized Models for Simulation-Based Inference}, \\n      author={Pierre Glaser and Michael Arbel and Samo Hromadka and Arnaud Doucet and Arthur Gretton},\\n      year={2023},\\n      eprint={2210.14756},\\n      archivePrefix={arXiv},\\n      primaryClass={cs.LG}\\n}'\n",
      "DEBUG:urllib3.connectionpool:Starting new HTTPS connection (1): arxiv.org:443\n",
      "DEBUG:urllib3.connectionpool:https://arxiv.org:443 \"GET /bibtex/2210.14602 HTTP/1.1\" 200 None\n",
      "DEBUG:root:Fetched BibTeX for arXiv ID 2210.14602\n",
      "DEBUG:root:response.text='@misc{gambardella2023efficient,\\n      title={Efficient Data Mosaicing with Simulation-based Inference}, \\n      author={Andrew Gambardella and Youngjun Choi and Doyo Choi and Jinjoon Lee},\\n      year={2023},\\n      eprint={2210.14602},\\n      archivePrefix={arXiv},\\n      primaryClass={cs.SD}\\n}'\n",
      "DEBUG:urllib3.connectionpool:Starting new HTTPS connection (1): arxiv.org:443\n"
     ]
    },
    {
     "name": "stdout",
     "output_type": "stream",
     "text": [
      "Markdown file created successfully: Maximum Likelihood Learning of Energy-Based Models for Simulation-Based Inference\n",
      "Markdown file created successfully: Audio Mosaicing with Simulation-based Inference\n",
      "Markdown file created successfully: COMPASS project proposal: Scaling up simulation based inference to whole genome data\n"
     ]
    },
    {
     "name": "stderr",
     "output_type": "stream",
     "text": [
      "DEBUG:urllib3.connectionpool:https://arxiv.org:443 \"GET /bibtex/2210.07154 HTTP/1.1\" 200 None\n",
      "DEBUG:root:Fetched BibTeX for arXiv ID 2210.07154\n",
      "DEBUG:root:response.text='@misc{khabibullin2022fast,\\n      title={Fast Estimation of Bayesian State Space Models Using Amortized Simulation-Based Inference}, \\n      author={Ramis Khabibullin and Sergei Seleznev},\\n      year={2022},\\n      eprint={2210.07154},\\n      archivePrefix={arXiv},\\n      primaryClass={econ.EM}\\n}'\n",
      "DEBUG:urllib3.connectionpool:Starting new HTTPS connection (1): arxiv.org:443\n",
      "DEBUG:urllib3.connectionpool:https://arxiv.org:443 \"GET /bibtex/2210.01680 HTTP/1.1\" 200 None\n",
      "DEBUG:root:Fetched BibTeX for arXiv ID 2210.01680\n",
      "DEBUG:root:response.text='@misc{kong2023new,\\n      title={New Machine Learning Techniques for Simulation-Based Inference: InferoStatic Nets, Kernel Score Estimation, and Kernel Likelihood Ratio Estimation}, \\n      author={Kyoungchul Kong and Konstantin T. Matchev and Stephen Mrenna and Prasanth Shyamsundar},\\n      year={2023},\\n      eprint={2210.01680},\\n      archivePrefix={arXiv},\\n      primaryClass={stat.ML}\\n}'\n",
      "DEBUG:urllib3.connectionpool:Starting new HTTPS connection (1): arxiv.org:443\n"
     ]
    },
    {
     "name": "stdout",
     "output_type": "stream",
     "text": [
      "Markdown file created successfully: Fast Estimation of Bayesian State Space Models Using Amortized Simulation-Based Inference\n",
      "Markdown file created successfully: Meta-Uncertainty in Bayesian Model Comparison\n",
      "Markdown file created successfully: Rethinking the Statistical Analysis of Neuromechanical Data\n",
      "Markdown file created successfully: New Machine Learning Techniques for Simulation-Based Inference: InferoStatic Nets, Kernel Score Estimation, and Kernel Likelihood Ratio Estimation\n",
      "Markdown file created successfully: paltas: Simulation-based inference on strong gravitational lensing systems\n"
     ]
    },
    {
     "name": "stderr",
     "output_type": "stream",
     "text": [
      "DEBUG:urllib3.connectionpool:https://arxiv.org:443 \"GET /bibtex/2209.14249 HTTP/1.1\" 200 None\n",
      "DEBUG:root:Fetched BibTeX for arXiv ID 2209.14249\n",
      "DEBUG:root:response.text='@misc{geffner2023compositional,\\n      title={Compositional Score Modeling for Simulation-based Inference}, \\n      author={Tomas Geffner and George Papamakarios and Andriy Mnih},\\n      year={2023},\\n      eprint={2209.14249},\\n      archivePrefix={arXiv},\\n      primaryClass={cs.LG}\\n}'\n",
      "DEBUG:urllib3.connectionpool:Starting new HTTPS connection (1): arxiv.org:443\n",
      "DEBUG:urllib3.connectionpool:https://arxiv.org:443 \"GET /bibtex/2209.11057v1 HTTP/1.1\" 200 None\n",
      "DEBUG:root:Fetched BibTeX for arXiv ID 2209.11057v1\n",
      "DEBUG:root:response.text='@misc{leclercq2022simulationbased,\\n      title={Simulation-based inference of Bayesian hierarchical models while checking for model misspecification}, \\n      author={Florent Leclercq},\\n      year={2022},\\n      eprint={2209.11057},\\n      archivePrefix={arXiv},\\n      primaryClass={stat.ME}\\n}'\n",
      "DEBUG:urllib3.connectionpool:Starting new HTTPS connection (1): arxiv.org:443\n"
     ]
    },
    {
     "name": "stdout",
     "output_type": "stream",
     "text": [
      "Markdown file created successfully: Score Modeling for Simulation-based Inference\n",
      "Markdown file created successfully: Full posterior estimation of Gray Matter cytoarchitecture using a three-compartment model with exchange: a simulation-based study\n",
      "Markdown file created successfully: Amortised inference in diffusion MRI biophysical models using artificial neural networks and simulation-based frameworks\n",
      "Markdown file created successfully: Simulation-based inference of Bayesian hierarchical models while checking for model misspecification\n"
     ]
    },
    {
     "name": "stderr",
     "output_type": "stream",
     "text": [
      "DEBUG:urllib3.connectionpool:https://arxiv.org:443 \"GET /bibtex/2210.04815 HTTP/1.1\" 200 None\n",
      "DEBUG:root:Fetched BibTeX for arXiv ID 2210.04815\n",
      "DEBUG:root:response.text='@misc{deistler2022truncated,\\n      title={Truncated proposals for scalable and hassle-free simulation-based inference}, \\n      author={Michael Deistler and Pedro J Goncalves and Jakob H Macke},\\n      year={2022},\\n      eprint={2210.04815},\\n      archivePrefix={arXiv},\\n      primaryClass={stat.ML}\\n}'\n",
      "DEBUG:urllib3.connectionpool:Starting new HTTPS connection (1): arxiv.org:443\n",
      "DEBUG:urllib3.connectionpool:https://arxiv.org:443 \"GET /bibtex/2210.06170v2 HTTP/1.1\" 200 None\n",
      "DEBUG:root:Fetched BibTeX for arXiv ID 2210.06170v2\n",
      "DEBUG:root:response.text='@misc{miller2023contrastive,\\n      title={Contrastive Neural Ratio Estimation}, \\n      author={Benjamin Kurt Miller and Christoph Weniger and Patrick Forré},\\n      year={2023},\\n      eprint={2210.06170},\\n      archivePrefix={arXiv},\\n      primaryClass={stat.ML}\\n}'\n",
      "DEBUG:urllib3.connectionpool:Starting new HTTPS connection (1): arxiv.org:443\n"
     ]
    },
    {
     "name": "stdout",
     "output_type": "stream",
     "text": [
      "Markdown file created successfully: Truncated proposals for scalable and hassle-free simulation-based inference\n",
      "Markdown file created successfully: Contrastive Neural Ratio Estimation\n"
     ]
    },
    {
     "name": "stderr",
     "output_type": "stream",
     "text": [
      "DEBUG:urllib3.connectionpool:https://arxiv.org:443 \"GET /bibtex/2110.06581v3 HTTP/1.1\" 200 None\n",
      "DEBUG:root:Fetched BibTeX for arXiv ID 2110.06581v3\n",
      "DEBUG:root:response.text='@misc{hermans2022trust,\\n      title={A Trust Crisis In Simulation-Based Inference? Your Posterior Approximations Can Be Unfaithful}, \\n      author={Joeri Hermans and Arnaud Delaunoy and François Rozet and Antoine Wehenkel and Volodimir Begy and Gilles Louppe},\\n      year={2022},\\n      eprint={2110.06581},\\n      archivePrefix={arXiv},\\n      primaryClass={stat.ML}\\n}'\n",
      "DEBUG:urllib3.connectionpool:Starting new HTTPS connection (1): arxiv.org:443\n",
      "DEBUG:urllib3.connectionpool:https://arxiv.org:443 \"GET /bibtex/2209.01845 HTTP/1.1\" 200 None\n",
      "DEBUG:root:Fetched BibTeX for arXiv ID 2209.01845\n",
      "DEBUG:root:response.text='@misc{cannon2022investigating,\\n      title={Investigating the Impact of Model Misspecification in Neural Simulation-based Inference}, \\n      author={Patrick Cannon and Daniel Ward and Sebastian M. Schmon},\\n      year={2022},\\n      eprint={2209.01845},\\n      archivePrefix={arXiv},\\n      primaryClass={stat.ML}\\n}'\n",
      "DEBUG:urllib3.connectionpool:Starting new HTTPS connection (1): arxiv.org:443\n"
     ]
    },
    {
     "name": "stdout",
     "output_type": "stream",
     "text": [
      "Markdown file created successfully: A Crisis In Simulation-Based Inference? Beware, Your Posterior Approximations Can Be Unfaithful\n",
      "Markdown file created successfully: Neural Posterior Estimation of hierarchical models in neuroscience\n",
      "Markdown file created successfully: Investigating the impact of model misspecification in neural simulation-based inference\n"
     ]
    },
    {
     "name": "stderr",
     "output_type": "stream",
     "text": [
      "DEBUG:urllib3.connectionpool:https://arxiv.org:443 \"GET /bibtex/2208.13624 HTTP/1.1\" 200 None\n",
      "DEBUG:root:Fetched BibTeX for arXiv ID 2208.13624\n",
      "DEBUG:root:response.text='@misc{delaunoy2022reliable,\\n      title={Towards Reliable Simulation-Based Inference with Balanced Neural Ratio Estimation}, \\n      author={Arnaud Delaunoy and Joeri Hermans and François Rozet and Antoine Wehenkel and Gilles Louppe},\\n      year={2022},\\n      eprint={2208.13624},\\n      archivePrefix={arXiv},\\n      primaryClass={stat.ML}\\n}'\n",
      "DEBUG:urllib3.connectionpool:Starting new HTTPS connection (1): arxiv.org:443\n"
     ]
    },
    {
     "name": "stdout",
     "output_type": "stream",
     "text": [
      "Markdown file created successfully: Towards Reliable Simulation-Based Inference with Balanced Neural Ratio Estimation\n",
      "Markdown file created successfully: Bayesian Estimation of Large-Scale Simulation Models with Gaussian Process Regression Surrogates\n",
      "Markdown file created successfully: Using simulation-based inference to determine the parameters of an integrated hydrologic model: a case study from the upper Colorado River basin\n",
      "Markdown file created successfully: Quantitative Insights into the Role of Copy Number Variants in Adaptive Evolution\n",
      "Markdown file created successfully: Simulation Based Inference in'Tiny Data'Biology.\n",
      "Markdown file created successfully: Practical estimation methods for high-dimensional multivariate stochastic volatility models\n",
      "Markdown file created successfully: Normalizing flows for likelihood-free inference with fusion simulations\n",
      "Markdown file created successfully: swyft: Truncated Marginal Neural Ratio Estimation in Python\n"
     ]
    },
    {
     "name": "stderr",
     "output_type": "stream",
     "text": [
      "DEBUG:urllib3.connectionpool:https://arxiv.org:443 \"GET /bibtex/2208.12825v1 HTTP/1.1\" 200 None\n",
      "DEBUG:root:Fetched BibTeX for arXiv ID 2208.12825v1\n",
      "DEBUG:root:response.text='@misc{nguyen2022uncovering,\\n      title={Uncovering dark matter density profiles in dwarf galaxies with graph neural networks}, \\n      author={Tri Nguyen and Siddharth Mishra-Sharma and Reuel Williams and Lina Necib},\\n      year={2022},\\n      eprint={2208.12825},\\n      archivePrefix={arXiv},\\n      primaryClass={astro-ph.CO}\\n}'\n",
      "DEBUG:urllib3.connectionpool:Starting new HTTPS connection (1): arxiv.org:443\n"
     ]
    },
    {
     "name": "stdout",
     "output_type": "stream",
     "text": [
      "Markdown file created successfully: Uncovering dark matter density profiles in dwarf galaxies with graph neural networks\n"
     ]
    },
    {
     "name": "stderr",
     "output_type": "stream",
     "text": [
      "DEBUG:urllib3.connectionpool:https://arxiv.org:443 \"GET /bibtex/2208.00134 HTTP/1.1\" 200 None\n",
      "DEBUG:root:Fetched BibTeX for arXiv ID 2208.00134\n",
      "DEBUG:root:response.text='@misc{reza2022estimating,\\n      title={Estimating Cosmological Constraints from Galaxy Cluster Abundance using Simulation-Based Inference}, \\n      author={Moonzarin Reza and Yuanyuan Zhang and Brian Nord and Jason Poh and Aleksandra Ciprijanovic and Louis Strigari},\\n      year={2022},\\n      eprint={2208.00134},\\n      archivePrefix={arXiv},\\n      primaryClass={astro-ph.CO}\\n}'\n",
      "DEBUG:urllib3.connectionpool:Starting new HTTPS connection (1): arxiv.org:443\n"
     ]
    },
    {
     "name": "stdout",
     "output_type": "stream",
     "text": [
      "Markdown file created successfully: Estimating Cosmological Constraints from Galaxy Cluster Abundance using Simulation-Based Inference\n",
      "Markdown file created successfully: Fast Estimation of Physical Galaxy Properties using Simulation-Based Inference\n"
     ]
    },
    {
     "name": "stderr",
     "output_type": "stream",
     "text": [
      "DEBUG:urllib3.connectionpool:https://arxiv.org:443 \"GET /bibtex/2207.05636 HTTP/1.1\" 200 None\n",
      "DEBUG:root:Fetched BibTeX for arXiv ID 2207.05636\n",
      "DEBUG:root:response.text='@misc{zeghal2022neural,\\n      title={Neural Posterior Estimation with Differentiable Simulators}, \\n      author={Justine Zeghal and François Lanusse and Alexandre Boucaud and Benjamin Remy and Eric Aubourg},\\n      year={2022},\\n      eprint={2207.05636},\\n      archivePrefix={arXiv},\\n      primaryClass={astro-ph.IM}\\n}'\n",
      "DEBUG:urllib3.connectionpool:Starting new HTTPS connection (1): arxiv.org:443\n"
     ]
    },
    {
     "name": "stdout",
     "output_type": "stream",
     "text": [
      "Markdown file created successfully: Neural Posterior Estimation with Differentiable Simulators\n",
      "Markdown file created successfully: Bayesian model comparison for simulation-based inference\n",
      "Markdown file created successfully: Towards reliable simulation-based inference\n",
      "Markdown file created successfully: Machine Learning and LHC Event Generation\n"
     ]
    },
    {
     "name": "stderr",
     "output_type": "stream",
     "text": [
      "DEBUG:urllib3.connectionpool:https://arxiv.org:443 \"GET /bibtex/2207.00519v4 HTTP/1.1\" 200 None\n",
      "DEBUG:root:Fetched BibTeX for arXiv ID 2207.00519v4\n",
      "DEBUG:root:response.text='@misc{philcox2023disordered,\\n      title={The Disordered Heterogeneous Universe: Galaxy Distribution and Clustering Across Length Scales}, \\n      author={Oliver H. E. Philcox and Salvatore Torquato},\\n      year={2023},\\n      eprint={2207.00519},\\n      archivePrefix={arXiv},\\n      primaryClass={astro-ph.CO}\\n}'\n",
      "DEBUG:urllib3.connectionpool:Starting new HTTPS connection (1): arxiv.org:443\n"
     ]
    },
    {
     "name": "stdout",
     "output_type": "stream",
     "text": [
      "Markdown file created successfully: Disordered Heterogeneous Universe: Galaxy Distribution and Clustering across Length Scales\n",
      "Markdown file created successfully: Book Review: Multivariate Data Integration Using R: Methods and Applications with the mixOmics Package, by Kim-Ahn Lê Cao and Zoe Welham, Boca Raton …\n",
      "Markdown file created successfully: Modern Data Science with R by Benjamin S. Baumer, Daniel T. Kaplan, and Nicholas J. Horton, Boca Raton, FL: Chapman and Hall/CRC Press, 2021, 650 pp …\n",
      "Markdown file created successfully: Physics Degree\n",
      "Markdown file created successfully: Simulation based inference for high dimensional inverse problems: application to magnetic resonance fingerprinting\n",
      "Markdown file created successfully: From Synapses to Circuits: Different Levels of Functional Modeling of the Retina\n"
     ]
    },
    {
     "name": "stderr",
     "output_type": "stream",
     "text": [
      "DEBUG:urllib3.connectionpool:https://arxiv.org:443 \"GET /bibtex/2206.11312 HTTP/1.1\" 200 None\n",
      "DEBUG:root:Fetched BibTeX for arXiv ID 2206.11312\n",
      "DEBUG:root:response.text='@misc{dimitriou2022reconstructing,\\n      title={Towards reconstructing the halo clustering and halo mass function of N-body simulations using neural ratio estimation}, \\n      author={Androniki Dimitriou and Christoph Weniger and Camila A. Correa},\\n      year={2022},\\n      eprint={2206.11312},\\n      archivePrefix={arXiv},\\n      primaryClass={astro-ph.CO}\\n}'\n",
      "DEBUG:urllib3.connectionpool:Starting new HTTPS connection (1): arxiv.org:443\n",
      "DEBUG:urllib3.connectionpool:https://arxiv.org:443 \"GET /bibtex/2206.07570 HTTP/1.1\" 200 None\n",
      "DEBUG:root:Fetched BibTeX for arXiv ID 2206.07570\n",
      "DEBUG:root:response.text='@misc{dyer2022calibrating,\\n      title={Calibrating Agent-based Models to Microdata with Graph Neural Networks}, \\n      author={Joel Dyer and Patrick Cannon and J. Doyne Farmer and Sebastian M. Schmon},\\n      year={2022},\\n      eprint={2206.07570},\\n      archivePrefix={arXiv},\\n      primaryClass={cs.MA}\\n}'\n"
     ]
    },
    {
     "name": "stdout",
     "output_type": "stream",
     "text": [
      "Markdown file created successfully: Towards reconstructing the halo clustering and halo mass function of N-body simulations using neural ratio estimation\n",
      "Markdown file created successfully: Calibrating agent-based models to microdata with graph neural networks\n",
      "Markdown file created successfully: Architectures for online simulation-based inference applied to robot motion planning\n"
     ]
    },
    {
     "name": "stderr",
     "output_type": "stream",
     "text": [
      "DEBUG:urllib3.connectionpool:Starting new HTTPS connection (1): arxiv.org:443\n",
      "DEBUG:urllib3.connectionpool:https://arxiv.org:443 \"GET /bibtex/2110.06581v3 HTTP/1.1\" 200 None\n",
      "DEBUG:root:Fetched BibTeX for arXiv ID 2110.06581v3\n",
      "DEBUG:root:response.text='@misc{hermans2022trust,\\n      title={A Trust Crisis In Simulation-Based Inference? Your Posterior Approximations Can Be Unfaithful}, \\n      author={Joeri Hermans and Arnaud Delaunoy and François Rozet and Antoine Wehenkel and Volodimir Begy and Gilles Louppe},\\n      year={2022},\\n      eprint={2110.06581},\\n      archivePrefix={arXiv},\\n      primaryClass={stat.ML}\\n}'\n",
      "DEBUG:urllib3.connectionpool:Starting new HTTPS connection (1): arxiv.org:443\n"
     ]
    },
    {
     "name": "stdout",
     "output_type": "stream",
     "text": [
      "Markdown file created successfully: Designing a large, online simulation-based introductory statistics course\n",
      "Markdown file created successfully: A Trust Crisis In Simulation-Based Inference? Your Posterior Approximations Can Be Unfaithful\n"
     ]
    },
    {
     "name": "stderr",
     "output_type": "stream",
     "text": [
      "DEBUG:urllib3.connectionpool:https://arxiv.org:443 \"GET /bibtex/2205.15680 HTTP/1.1\" 200 None\n",
      "DEBUG:root:Fetched BibTeX for arXiv ID 2205.15680\n",
      "DEBUG:root:response.text='@misc{masserano2023simulationbased,\\n      title={Simulation-Based Inference with Waldo: Confidence Regions by Leveraging Prediction Algorithms or Posterior Estimators for Inverse Problems}, \\n      author={Luca Masserano and Tommaso Dorigo and Rafael Izbicki and Mikael Kuusela and Ann B. Lee},\\n      year={2023},\\n      eprint={2205.15680},\\n      archivePrefix={arXiv},\\n      primaryClass={stat.ML}\\n}'\n",
      "DEBUG:urllib3.connectionpool:Starting new HTTPS connection (1): arxiv.org:443\n",
      "DEBUG:urllib3.connectionpool:https://arxiv.org:443 \"GET /bibtex/2206.07570v1 HTTP/1.1\" 200 None\n",
      "DEBUG:root:Fetched BibTeX for arXiv ID 2206.07570v1\n"
     ]
    },
    {
     "name": "stdout",
     "output_type": "stream",
     "text": [
      "Markdown file created successfully: Simulation-Based Inference with WALDO: Perfectly Calibrated Confidence Regions Using Any Prediction or Posterior Estimation Algorithm\n",
      "Markdown file created successfully: Un-Biasing Standard Siren Inference of the Hubble Constant\n"
     ]
    },
    {
     "name": "stderr",
     "output_type": "stream",
     "text": [
      "DEBUG:root:response.text='@misc{dyer2022calibrating,\\n      title={Calibrating Agent-based Models to Microdata with Graph Neural Networks}, \\n      author={Joel Dyer and Patrick Cannon and J. Doyne Farmer and Sebastian M. Schmon},\\n      year={2022},\\n      eprint={2206.07570},\\n      archivePrefix={arXiv},\\n      primaryClass={cs.MA}\\n}'\n",
      "DEBUG:urllib3.connectionpool:Starting new HTTPS connection (1): arxiv.org:443\n",
      "DEBUG:urllib3.connectionpool:https://arxiv.org:443 \"GET /bibtex/2210.11915v2 HTTP/1.1\" 200 None\n",
      "DEBUG:root:Fetched BibTeX for arXiv ID 2210.11915v2\n",
      "DEBUG:root:response.text='@misc{beck2022efficient,\\n      title={Efficient identification of informative features in simulation-based inference}, \\n      author={Jonas Beck and Michael Deistler and Yves Bernaerts and Jakob Macke and Philipp Berens},\\n      year={2022},\\n      eprint={2210.11915},\\n      archivePrefix={arXiv},\\n      primaryClass={cs.LG}\\n}'\n",
      "DEBUG:urllib3.connectionpool:Starting new HTTPS connection (1): arxiv.org:443\n"
     ]
    },
    {
     "name": "stdout",
     "output_type": "stream",
     "text": [
      "Markdown file created successfully: Calibrating Agent-based Models to Microdata with Graph Neural Networks\n",
      "Markdown file created successfully: Neural networks enable efficient and accurate simulation-based inference of evolutionary parameters from adaptation dynamics\n",
      "Markdown file created successfully: Efficient identification of informative features in simulation-based inference\n"
     ]
    },
    {
     "name": "stderr",
     "output_type": "stream",
     "text": [
      "DEBUG:urllib3.connectionpool:https://arxiv.org:443 \"GET /bibtex/2205.09126v2 HTTP/1.1\" 200 None\n",
      "DEBUG:root:Fetched BibTeX for arXiv ID 2205.09126v2\n",
      "DEBUG:root:response.text='@misc{montel2022estimating,\\n      title={Estimating the warm dark matter mass from strong lensing images with truncated marginal neural ratio estimation}, \\n      author={Noemi Anau Montel and Adam Coogan and Camila Correa and Konstantin Karchev and Christoph Weniger},\\n      year={2022},\\n      eprint={2205.09126},\\n      archivePrefix={arXiv},\\n      primaryClass={astro-ph.CO}\\n}'\n",
      "DEBUG:urllib3.connectionpool:Starting new HTTPS connection (1): arxiv.org:443\n",
      "DEBUG:urllib3.connectionpool:https://arxiv.org:443 \"GET /bibtex/2304.10978 HTTP/1.1\" 200 None\n",
      "DEBUG:root:Fetched BibTeX for arXiv ID 2304.10978\n",
      "DEBUG:root:response.text='@misc{delaunoy2023balancing,\\n      title={Balancing Simulation-based Inference for Conservative Posteriors}, \\n      author={Arnaud Delaunoy and Benjamin Kurt Miller and Patrick Forré and Christoph Weniger and Gilles Louppe},\\n      year={2023},\\n      eprint={2304.10978},\\n      archivePrefix={arXiv},\\n      primaryClass={stat.ML}\\n}'\n",
      "DEBUG:urllib3.connectionpool:Starting new HTTPS connection (1): arxiv.org:443\n"
     ]
    },
    {
     "name": "stdout",
     "output_type": "stream",
     "text": [
      "Markdown file created successfully: Estimating the warm dark matter mass from strong lensing images with truncated marginal neural ratio estimation\n",
      "Markdown file created successfully: Uncertainty quantification for melt rate parameters in ice shelves using simulation-based inference\n",
      "Markdown file created successfully: Balancing Simulation-based Inference for Conservative Posteriors\n"
     ]
    },
    {
     "name": "stderr",
     "output_type": "stream",
     "text": [
      "DEBUG:urllib3.connectionpool:https://arxiv.org:443 \"GET /bibtex/2209.01845v1 HTTP/1.1\" 200 None\n",
      "DEBUG:root:Fetched BibTeX for arXiv ID 2209.01845v1\n",
      "DEBUG:root:response.text='@misc{cannon2022investigating,\\n      title={Investigating the Impact of Model Misspecification in Neural Simulation-based Inference}, \\n      author={Patrick Cannon and Daniel Ward and Sebastian M. Schmon},\\n      year={2022},\\n      eprint={2209.01845},\\n      archivePrefix={arXiv},\\n      primaryClass={stat.ML}\\n}'\n",
      "DEBUG:urllib3.connectionpool:Starting new HTTPS connection (1): arxiv.org:443\n",
      "DEBUG:urllib3.connectionpool:https://arxiv.org:443 \"GET /bibtex/2305.02652 HTTP/1.1\" 200 None\n",
      "DEBUG:root:Fetched BibTeX for arXiv ID 2305.02652\n",
      "DEBUG:root:response.text='@misc{zheng2023angular,\\n      title={The angular power spectrum of gravitational-wave transient sources as a probe of the large-scale structure}, \\n      author={Yanyan Zheng and Nikolaos Kouvatsos and Jacob Golomb and Marco Cavaglià and Arianna I. Renzini and Mairi Sakellariadou},\\n      year={2023},\\n      eprint={2305.02652},\\n      archivePrefix={arXiv},\\n      primaryClass={astro-ph.CO}\\n}'\n"
     ]
    },
    {
     "name": "stdout",
     "output_type": "stream",
     "text": [
      "Markdown file created successfully: Investigating model misspecification in simulation-based inference\n",
      "Markdown file created successfully: 3.10 Simulation Based Analysis of Social Systems–Models, Data and Policy\n",
      "Markdown file created successfully: The angular power spectrum of gravitational-wave transient sources as a probe of the large-scale structure\n",
      "Markdown file created successfully: AI Seminar: Machine Learning Powered Inference in Cosmology\n"
     ]
    }
   ],
   "source": [
    "# Only remake all .md posts\n",
    "from scholar.post_maker import make_all\n",
    "\n",
    "make_all(overwrite=True)"
   ]
  },
  {
   "attachments": {},
   "cell_type": "markdown",
   "metadata": {},
   "source": [
    "# Archive\n",
    "\n",
    "Contains 1 off snippets to make change to the system."
   ]
  },
  {
   "attachments": {},
   "cell_type": "markdown",
   "metadata": {},
   "source": [
    "## Add new column called arxiv_term in SQLite"
   ]
  },
  {
   "cell_type": "code",
   "execution_count": null,
   "metadata": {},
   "outputs": [],
   "source": [
    "# import sqlite3\n",
    "\n",
    "# Drop column\n",
    "# with sqlite3.connect('scholar/paper.db') as conn:\n",
    "#     c = conn.cursor()\n",
    "#     c.execute('ALTER TABLE paper DROP COLUMN arxiv_group_tag;')\n",
    "#     conn.commit()\n",
    "\n",
    "# with sqlite3.connect(\"scholar/paper.db\") as conn:\n",
    "#     c = conn.cursor()\n",
    "#     c.execute(\"ALTER TABLE paper ADD COLUMN category VARCHAR(255);\")\n",
    "#     conn.commit()"
   ]
  },
  {
   "attachments": {},
   "cell_type": "markdown",
   "metadata": {},
   "source": [
    "## Compute new column"
   ]
  },
  {
   "cell_type": "code",
   "execution_count": null,
   "metadata": {},
   "outputs": [],
   "source": [
    "# import sqlite3\n",
    "# import pandas as pd\n",
    "# from scholar.database import Paper\n",
    "\n",
    "# with sqlite3.connect(\"scholar/paper.db\") as conn:\n",
    "\n",
    "#     # Add journal column\n",
    "#     cursor = conn.cursor()\n",
    "#     cursor.execute(\"ALTER TABLE paper ADD COLUMN journal VARCHAR(255);\")\n",
    "\n",
    "#     # Export data to pandas for easier manipulation\n",
    "#     df = pd.read_sql_query(\"SELECT * FROM paper\", conn)\n",
    "\n",
    "\n",
    "# # Extract journal name from publication_info_summary\n",
    "# journals = df.publication_info_summary.str.split(\" - \", expand=True)[2]\n",
    "\n",
    "# # Update the database\n",
    "# for record, new_value in zip(Paper.select(), journals):\n",
    "#     record.journal = new_value\n",
    "#     record.save()"
   ]
  },
  {
   "attachments": {},
   "cell_type": "markdown",
   "metadata": {},
   "source": [
    "## Patch arxiv"
   ]
  },
  {
   "cell_type": "code",
   "execution_count": null,
   "metadata": {},
   "outputs": [],
   "source": [
    "from scholar.database import Paper\n",
    "from scholar.api import query_arxiv\n",
    "\n",
    "\n",
    "papers = Paper.select().where(Paper.journal == \"arxiv.org\")\n",
    "\n",
    "for paper in papers:\n",
    "    print(paper.link, paper.arxiv_id)\n",
    "    result = query_arxiv(paper.arxiv_id)\n",
    "    paper.authors = result[\"authors\"]\n",
    "    paper.doi = result[\"doi\"]\n",
    "    paper.arxiv_category_tag = result[\"arxiv_category_tag\"]\n",
    "    paper.category = result[\"category\"]\n",
    "    paper.save()"
   ]
  },
  {
   "cell_type": "code",
   "execution_count": null,
   "metadata": {},
   "outputs": [],
   "source": [
    "from scholar.api import get_bibtex"
   ]
  },
  {
   "cell_type": "code",
   "execution_count": null,
   "metadata": {},
   "outputs": [],
   "source": [
    "get_bibtex(\"2304.06806\")"
   ]
  },
  {
   "cell_type": "code",
   "execution_count": null,
   "metadata": {},
   "outputs": [],
   "source": []
  }
 ],
 "metadata": {
  "kernelspec": {
   "display_name": "sbi",
   "language": "python",
   "name": "python3"
  },
  "language_info": {
   "codemirror_mode": {
    "name": "ipython",
    "version": 3
   },
   "file_extension": ".py",
   "mimetype": "text/x-python",
   "name": "python",
   "nbconvert_exporter": "python",
   "pygments_lexer": "ipython3",
   "version": "3.10.11"
  },
  "orig_nbformat": 4
 },
 "nbformat": 4,
 "nbformat_minor": 2
}
